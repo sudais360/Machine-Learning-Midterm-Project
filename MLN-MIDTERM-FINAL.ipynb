{
 "cells": [
  {
   "cell_type": "code",
   "execution_count": 1,
   "id": "ccf10556",
   "metadata": {},
   "outputs": [],
   "source": [
    "#IMPORT Libraries\n",
    "\n",
    "from sklearn import datasets\n",
    "import numpy as np\n",
    "import matplotlib.pyplot as plt\n",
    "import pandas as pd\n",
    "import seaborn as sns"
   ]
  },
  {
   "cell_type": "code",
   "execution_count": 2,
   "id": "61f7061c",
   "metadata": {},
   "outputs": [
    {
     "name": "stdout",
     "output_type": "stream",
     "text": [
      ".. _wine_dataset:\n",
      "\n",
      "Wine recognition dataset\n",
      "------------------------\n",
      "\n",
      "**Data Set Characteristics:**\n",
      "\n",
      "    :Number of Instances: 178 (50 in each of three classes)\n",
      "    :Number of Attributes: 13 numeric, predictive attributes and the class\n",
      "    :Attribute Information:\n",
      " \t\t- Alcohol\n",
      " \t\t- Malic acid\n",
      " \t\t- Ash\n",
      "\t\t- Alcalinity of ash  \n",
      " \t\t- Magnesium\n",
      "\t\t- Total phenols\n",
      " \t\t- Flavanoids\n",
      " \t\t- Nonflavanoid phenols\n",
      " \t\t- Proanthocyanins\n",
      "\t\t- Color intensity\n",
      " \t\t- Hue\n",
      " \t\t- OD280/OD315 of diluted wines\n",
      " \t\t- Proline\n",
      "\n",
      "    - class:\n",
      "            - class_0\n",
      "            - class_1\n",
      "            - class_2\n",
      "\t\t\n",
      "    :Summary Statistics:\n",
      "    \n",
      "    ============================= ==== ===== ======= =====\n",
      "                                   Min   Max   Mean     SD\n",
      "    ============================= ==== ===== ======= =====\n",
      "    Alcohol:                      11.0  14.8    13.0   0.8\n",
      "    Malic Acid:                   0.74  5.80    2.34  1.12\n",
      "    Ash:                          1.36  3.23    2.36  0.27\n",
      "    Alcalinity of Ash:            10.6  30.0    19.5   3.3\n",
      "    Magnesium:                    70.0 162.0    99.7  14.3\n",
      "    Total Phenols:                0.98  3.88    2.29  0.63\n",
      "    Flavanoids:                   0.34  5.08    2.03  1.00\n",
      "    Nonflavanoid Phenols:         0.13  0.66    0.36  0.12\n",
      "    Proanthocyanins:              0.41  3.58    1.59  0.57\n",
      "    Colour Intensity:              1.3  13.0     5.1   2.3\n",
      "    Hue:                          0.48  1.71    0.96  0.23\n",
      "    OD280/OD315 of diluted wines: 1.27  4.00    2.61  0.71\n",
      "    Proline:                       278  1680     746   315\n",
      "    ============================= ==== ===== ======= =====\n",
      "\n",
      "    :Missing Attribute Values: None\n",
      "    :Class Distribution: class_0 (59), class_1 (71), class_2 (48)\n",
      "    :Creator: R.A. Fisher\n",
      "    :Donor: Michael Marshall (MARSHALL%PLU@io.arc.nasa.gov)\n",
      "    :Date: July, 1988\n",
      "\n",
      "This is a copy of UCI ML Wine recognition datasets.\n",
      "https://archive.ics.uci.edu/ml/machine-learning-databases/wine/wine.data\n",
      "\n",
      "The data is the results of a chemical analysis of wines grown in the same\n",
      "region in Italy by three different cultivators. There are thirteen different\n",
      "measurements taken for different constituents found in the three types of\n",
      "wine.\n",
      "\n",
      "Original Owners: \n",
      "\n",
      "Forina, M. et al, PARVUS - \n",
      "An Extendible Package for Data Exploration, Classification and Correlation. \n",
      "Institute of Pharmaceutical and Food Analysis and Technologies,\n",
      "Via Brigata Salerno, 16147 Genoa, Italy.\n",
      "\n",
      "Citation:\n",
      "\n",
      "Lichman, M. (2013). UCI Machine Learning Repository\n",
      "[https://archive.ics.uci.edu/ml]. Irvine, CA: University of California,\n",
      "School of Information and Computer Science. \n",
      "\n",
      ".. topic:: References\n",
      "\n",
      "  (1) S. Aeberhard, D. Coomans and O. de Vel, \n",
      "  Comparison of Classifiers in High Dimensional Settings, \n",
      "  Tech. Rep. no. 92-02, (1992), Dept. of Computer Science and Dept. of  \n",
      "  Mathematics and Statistics, James Cook University of North Queensland. \n",
      "  (Also submitted to Technometrics). \n",
      "\n",
      "  The data was used with many others for comparing various \n",
      "  classifiers. The classes are separable, though only RDA \n",
      "  has achieved 100% correct classification. \n",
      "  (RDA : 100%, QDA 99.4%, LDA 98.9%, 1NN 96.1% (z-transformed data)) \n",
      "  (All results using the leave-one-out technique) \n",
      "\n",
      "  (2) S. Aeberhard, D. Coomans and O. de Vel, \n",
      "  \"THE CLASSIFICATION PERFORMANCE OF RDA\" \n",
      "  Tech. Rep. no. 92-01, (1992), Dept. of Computer Science and Dept. of \n",
      "  Mathematics and Statistics, James Cook University of North Queensland. \n",
      "  (Also submitted to Journal of Chemometrics).\n",
      "\n"
     ]
    }
   ],
   "source": [
    "# load Wine data\n",
    "wine=datasets.load_wine()\n",
    "print(wine.DESCR)"
   ]
  },
  {
   "cell_type": "code",
   "execution_count": 3,
   "id": "321c39b0",
   "metadata": {},
   "outputs": [
    {
     "data": {
      "text/html": [
       "<div>\n",
       "<style scoped>\n",
       "    .dataframe tbody tr th:only-of-type {\n",
       "        vertical-align: middle;\n",
       "    }\n",
       "\n",
       "    .dataframe tbody tr th {\n",
       "        vertical-align: top;\n",
       "    }\n",
       "\n",
       "    .dataframe thead th {\n",
       "        text-align: right;\n",
       "    }\n",
       "</style>\n",
       "<table border=\"1\" class=\"dataframe\">\n",
       "  <thead>\n",
       "    <tr style=\"text-align: right;\">\n",
       "      <th></th>\n",
       "      <th>alcohol</th>\n",
       "      <th>malic_acid</th>\n",
       "      <th>ash</th>\n",
       "      <th>alcalinity_of_ash</th>\n",
       "      <th>magnesium</th>\n",
       "      <th>total_phenols</th>\n",
       "      <th>flavanoids</th>\n",
       "      <th>nonflavanoid_phenols</th>\n",
       "      <th>proanthocyanins</th>\n",
       "      <th>color_intensity</th>\n",
       "      <th>hue</th>\n",
       "      <th>od280/od315_of_diluted_wines</th>\n",
       "      <th>proline</th>\n",
       "    </tr>\n",
       "  </thead>\n",
       "  <tbody>\n",
       "    <tr>\n",
       "      <th>0</th>\n",
       "      <td>14.23</td>\n",
       "      <td>1.71</td>\n",
       "      <td>2.43</td>\n",
       "      <td>15.6</td>\n",
       "      <td>127.0</td>\n",
       "      <td>2.80</td>\n",
       "      <td>3.06</td>\n",
       "      <td>0.28</td>\n",
       "      <td>2.29</td>\n",
       "      <td>5.64</td>\n",
       "      <td>1.04</td>\n",
       "      <td>3.92</td>\n",
       "      <td>1065.0</td>\n",
       "    </tr>\n",
       "    <tr>\n",
       "      <th>1</th>\n",
       "      <td>13.20</td>\n",
       "      <td>1.78</td>\n",
       "      <td>2.14</td>\n",
       "      <td>11.2</td>\n",
       "      <td>100.0</td>\n",
       "      <td>2.65</td>\n",
       "      <td>2.76</td>\n",
       "      <td>0.26</td>\n",
       "      <td>1.28</td>\n",
       "      <td>4.38</td>\n",
       "      <td>1.05</td>\n",
       "      <td>3.40</td>\n",
       "      <td>1050.0</td>\n",
       "    </tr>\n",
       "    <tr>\n",
       "      <th>2</th>\n",
       "      <td>13.16</td>\n",
       "      <td>2.36</td>\n",
       "      <td>2.67</td>\n",
       "      <td>18.6</td>\n",
       "      <td>101.0</td>\n",
       "      <td>2.80</td>\n",
       "      <td>3.24</td>\n",
       "      <td>0.30</td>\n",
       "      <td>2.81</td>\n",
       "      <td>5.68</td>\n",
       "      <td>1.03</td>\n",
       "      <td>3.17</td>\n",
       "      <td>1185.0</td>\n",
       "    </tr>\n",
       "    <tr>\n",
       "      <th>3</th>\n",
       "      <td>14.37</td>\n",
       "      <td>1.95</td>\n",
       "      <td>2.50</td>\n",
       "      <td>16.8</td>\n",
       "      <td>113.0</td>\n",
       "      <td>3.85</td>\n",
       "      <td>3.49</td>\n",
       "      <td>0.24</td>\n",
       "      <td>2.18</td>\n",
       "      <td>7.80</td>\n",
       "      <td>0.86</td>\n",
       "      <td>3.45</td>\n",
       "      <td>1480.0</td>\n",
       "    </tr>\n",
       "    <tr>\n",
       "      <th>4</th>\n",
       "      <td>13.24</td>\n",
       "      <td>2.59</td>\n",
       "      <td>2.87</td>\n",
       "      <td>21.0</td>\n",
       "      <td>118.0</td>\n",
       "      <td>2.80</td>\n",
       "      <td>2.69</td>\n",
       "      <td>0.39</td>\n",
       "      <td>1.82</td>\n",
       "      <td>4.32</td>\n",
       "      <td>1.04</td>\n",
       "      <td>2.93</td>\n",
       "      <td>735.0</td>\n",
       "    </tr>\n",
       "    <tr>\n",
       "      <th>...</th>\n",
       "      <td>...</td>\n",
       "      <td>...</td>\n",
       "      <td>...</td>\n",
       "      <td>...</td>\n",
       "      <td>...</td>\n",
       "      <td>...</td>\n",
       "      <td>...</td>\n",
       "      <td>...</td>\n",
       "      <td>...</td>\n",
       "      <td>...</td>\n",
       "      <td>...</td>\n",
       "      <td>...</td>\n",
       "      <td>...</td>\n",
       "    </tr>\n",
       "    <tr>\n",
       "      <th>173</th>\n",
       "      <td>13.71</td>\n",
       "      <td>5.65</td>\n",
       "      <td>2.45</td>\n",
       "      <td>20.5</td>\n",
       "      <td>95.0</td>\n",
       "      <td>1.68</td>\n",
       "      <td>0.61</td>\n",
       "      <td>0.52</td>\n",
       "      <td>1.06</td>\n",
       "      <td>7.70</td>\n",
       "      <td>0.64</td>\n",
       "      <td>1.74</td>\n",
       "      <td>740.0</td>\n",
       "    </tr>\n",
       "    <tr>\n",
       "      <th>174</th>\n",
       "      <td>13.40</td>\n",
       "      <td>3.91</td>\n",
       "      <td>2.48</td>\n",
       "      <td>23.0</td>\n",
       "      <td>102.0</td>\n",
       "      <td>1.80</td>\n",
       "      <td>0.75</td>\n",
       "      <td>0.43</td>\n",
       "      <td>1.41</td>\n",
       "      <td>7.30</td>\n",
       "      <td>0.70</td>\n",
       "      <td>1.56</td>\n",
       "      <td>750.0</td>\n",
       "    </tr>\n",
       "    <tr>\n",
       "      <th>175</th>\n",
       "      <td>13.27</td>\n",
       "      <td>4.28</td>\n",
       "      <td>2.26</td>\n",
       "      <td>20.0</td>\n",
       "      <td>120.0</td>\n",
       "      <td>1.59</td>\n",
       "      <td>0.69</td>\n",
       "      <td>0.43</td>\n",
       "      <td>1.35</td>\n",
       "      <td>10.20</td>\n",
       "      <td>0.59</td>\n",
       "      <td>1.56</td>\n",
       "      <td>835.0</td>\n",
       "    </tr>\n",
       "    <tr>\n",
       "      <th>176</th>\n",
       "      <td>13.17</td>\n",
       "      <td>2.59</td>\n",
       "      <td>2.37</td>\n",
       "      <td>20.0</td>\n",
       "      <td>120.0</td>\n",
       "      <td>1.65</td>\n",
       "      <td>0.68</td>\n",
       "      <td>0.53</td>\n",
       "      <td>1.46</td>\n",
       "      <td>9.30</td>\n",
       "      <td>0.60</td>\n",
       "      <td>1.62</td>\n",
       "      <td>840.0</td>\n",
       "    </tr>\n",
       "    <tr>\n",
       "      <th>177</th>\n",
       "      <td>14.13</td>\n",
       "      <td>4.10</td>\n",
       "      <td>2.74</td>\n",
       "      <td>24.5</td>\n",
       "      <td>96.0</td>\n",
       "      <td>2.05</td>\n",
       "      <td>0.76</td>\n",
       "      <td>0.56</td>\n",
       "      <td>1.35</td>\n",
       "      <td>9.20</td>\n",
       "      <td>0.61</td>\n",
       "      <td>1.60</td>\n",
       "      <td>560.0</td>\n",
       "    </tr>\n",
       "  </tbody>\n",
       "</table>\n",
       "<p>178 rows × 13 columns</p>\n",
       "</div>"
      ],
      "text/plain": [
       "     alcohol  malic_acid   ash  alcalinity_of_ash  magnesium  total_phenols  \\\n",
       "0      14.23        1.71  2.43               15.6      127.0           2.80   \n",
       "1      13.20        1.78  2.14               11.2      100.0           2.65   \n",
       "2      13.16        2.36  2.67               18.6      101.0           2.80   \n",
       "3      14.37        1.95  2.50               16.8      113.0           3.85   \n",
       "4      13.24        2.59  2.87               21.0      118.0           2.80   \n",
       "..       ...         ...   ...                ...        ...            ...   \n",
       "173    13.71        5.65  2.45               20.5       95.0           1.68   \n",
       "174    13.40        3.91  2.48               23.0      102.0           1.80   \n",
       "175    13.27        4.28  2.26               20.0      120.0           1.59   \n",
       "176    13.17        2.59  2.37               20.0      120.0           1.65   \n",
       "177    14.13        4.10  2.74               24.5       96.0           2.05   \n",
       "\n",
       "     flavanoids  nonflavanoid_phenols  proanthocyanins  color_intensity   hue  \\\n",
       "0          3.06                  0.28             2.29             5.64  1.04   \n",
       "1          2.76                  0.26             1.28             4.38  1.05   \n",
       "2          3.24                  0.30             2.81             5.68  1.03   \n",
       "3          3.49                  0.24             2.18             7.80  0.86   \n",
       "4          2.69                  0.39             1.82             4.32  1.04   \n",
       "..          ...                   ...              ...              ...   ...   \n",
       "173        0.61                  0.52             1.06             7.70  0.64   \n",
       "174        0.75                  0.43             1.41             7.30  0.70   \n",
       "175        0.69                  0.43             1.35            10.20  0.59   \n",
       "176        0.68                  0.53             1.46             9.30  0.60   \n",
       "177        0.76                  0.56             1.35             9.20  0.61   \n",
       "\n",
       "     od280/od315_of_diluted_wines  proline  \n",
       "0                            3.92   1065.0  \n",
       "1                            3.40   1050.0  \n",
       "2                            3.17   1185.0  \n",
       "3                            3.45   1480.0  \n",
       "4                            2.93    735.0  \n",
       "..                            ...      ...  \n",
       "173                          1.74    740.0  \n",
       "174                          1.56    750.0  \n",
       "175                          1.56    835.0  \n",
       "176                          1.62    840.0  \n",
       "177                          1.60    560.0  \n",
       "\n",
       "[178 rows x 13 columns]"
      ]
     },
     "execution_count": 3,
     "metadata": {},
     "output_type": "execute_result"
    }
   ],
   "source": [
    "# Dataframe of Wine Dataset\n",
    "df_wine = pd.DataFrame(wine.data, columns =wine.feature_names )\n",
    "df_wine"
   ]
  },
  {
   "cell_type": "code",
   "execution_count": 4,
   "id": "67f3b91a",
   "metadata": {},
   "outputs": [
    {
     "data": {
      "text/html": [
       "<div>\n",
       "<style scoped>\n",
       "    .dataframe tbody tr th:only-of-type {\n",
       "        vertical-align: middle;\n",
       "    }\n",
       "\n",
       "    .dataframe tbody tr th {\n",
       "        vertical-align: top;\n",
       "    }\n",
       "\n",
       "    .dataframe thead th {\n",
       "        text-align: right;\n",
       "    }\n",
       "</style>\n",
       "<table border=\"1\" class=\"dataframe\">\n",
       "  <thead>\n",
       "    <tr style=\"text-align: right;\">\n",
       "      <th></th>\n",
       "      <th>flavanoids</th>\n",
       "      <th>proline</th>\n",
       "    </tr>\n",
       "  </thead>\n",
       "  <tbody>\n",
       "    <tr>\n",
       "      <th>0</th>\n",
       "      <td>3.06</td>\n",
       "      <td>1065.0</td>\n",
       "    </tr>\n",
       "    <tr>\n",
       "      <th>1</th>\n",
       "      <td>2.76</td>\n",
       "      <td>1050.0</td>\n",
       "    </tr>\n",
       "    <tr>\n",
       "      <th>2</th>\n",
       "      <td>3.24</td>\n",
       "      <td>1185.0</td>\n",
       "    </tr>\n",
       "    <tr>\n",
       "      <th>3</th>\n",
       "      <td>3.49</td>\n",
       "      <td>1480.0</td>\n",
       "    </tr>\n",
       "    <tr>\n",
       "      <th>4</th>\n",
       "      <td>2.69</td>\n",
       "      <td>735.0</td>\n",
       "    </tr>\n",
       "    <tr>\n",
       "      <th>...</th>\n",
       "      <td>...</td>\n",
       "      <td>...</td>\n",
       "    </tr>\n",
       "    <tr>\n",
       "      <th>173</th>\n",
       "      <td>0.61</td>\n",
       "      <td>740.0</td>\n",
       "    </tr>\n",
       "    <tr>\n",
       "      <th>174</th>\n",
       "      <td>0.75</td>\n",
       "      <td>750.0</td>\n",
       "    </tr>\n",
       "    <tr>\n",
       "      <th>175</th>\n",
       "      <td>0.69</td>\n",
       "      <td>835.0</td>\n",
       "    </tr>\n",
       "    <tr>\n",
       "      <th>176</th>\n",
       "      <td>0.68</td>\n",
       "      <td>840.0</td>\n",
       "    </tr>\n",
       "    <tr>\n",
       "      <th>177</th>\n",
       "      <td>0.76</td>\n",
       "      <td>560.0</td>\n",
       "    </tr>\n",
       "  </tbody>\n",
       "</table>\n",
       "<p>178 rows × 2 columns</p>\n",
       "</div>"
      ],
      "text/plain": [
       "     flavanoids  proline\n",
       "0          3.06   1065.0\n",
       "1          2.76   1050.0\n",
       "2          3.24   1185.0\n",
       "3          3.49   1480.0\n",
       "4          2.69    735.0\n",
       "..          ...      ...\n",
       "173        0.61    740.0\n",
       "174        0.75    750.0\n",
       "175        0.69    835.0\n",
       "176        0.68    840.0\n",
       "177        0.76    560.0\n",
       "\n",
       "[178 rows x 2 columns]"
      ]
     },
     "execution_count": 4,
     "metadata": {},
     "output_type": "execute_result"
    }
   ],
   "source": [
    "# This dataset has 13 features, we will only choose a subset of these\n",
    "\n",
    "\n",
    "selected_features = [\"flavanoids\", \"proline\"]\n",
    "\n",
    "df_selected_features = df_wine[selected_features]\n",
    "# extract the data as numpy arrays of features, X, and target, y\n",
    "X = df_wine[selected_features].values\n",
    "y = wine.target\n",
    "df_selected_features\n"
   ]
  },
  {
   "cell_type": "markdown",
   "id": "dc422fc0",
   "metadata": {},
   "source": [
    "# "
   ]
  },
  {
   "cell_type": "markdown",
   "id": "fd1fddbd",
   "metadata": {},
   "source": [
    "##  Algorithm Selection and Implementation"
   ]
  },
  {
   "cell_type": "markdown",
   "id": "d09115b7",
   "metadata": {},
   "source": [
    "### k-Nearest Neighbors (kNN)\n",
    "\n",
    "<b>Objective:</b>Applying the closest neighbours in the feature space to categorize the type of wine. For classification problems, kNN is a straightforward but effective technique, particularly when the dataset is manageable and simple.\n",
    "\n",
    "<b>Why kNN:</b> The reason for kNN Multi-class situations such as this one, in which we want to classify wines into different kinds, are well handled by it. It's also simple to visualize and intuitive."
   ]
  },
  {
   "cell_type": "markdown",
   "id": "9b280d67",
   "metadata": {},
   "source": [
    "### Decision Trees\n",
    "\n",
    "<b>Objective:</b>The goal is to build a model that uses basic decision rules deduced from the features to predict the type of wine. Decision trees can handle both category and numerical data, which makes them ideal for classification.\n",
    "\n",
    "<b>Why Decision Trees:</b>They are simple to understand and give a clear indication of which features are crucial for classification."
   ]
  },
  {
   "cell_type": "markdown",
   "id": "eefe3e6e",
   "metadata": {},
   "source": [
    "# "
   ]
  },
  {
   "cell_type": "markdown",
   "id": "b09b62bd",
   "metadata": {},
   "source": [
    "# First Algorithm - k-Nearest Neighbors (kNN)"
   ]
  },
  {
   "cell_type": "code",
   "execution_count": 5,
   "id": "76446dc5",
   "metadata": {},
   "outputs": [],
   "source": [
    "# Import Libraries\n",
    "from sklearn.model_selection import train_test_split\n",
    "from sklearn.preprocessing import StandardScaler"
   ]
  },
  {
   "cell_type": "markdown",
   "id": "6a80784c",
   "metadata": {},
   "source": [
    "### Euclidean Distance"
   ]
  },
  {
   "cell_type": "code",
   "execution_count": 6,
   "id": "2018fc84",
   "metadata": {},
   "outputs": [],
   "source": [
    "def euclidean_distance(x1, x2):\n",
    "    \"\"\"Calculate the Euclidean distance between two vectors.\"\"\"\n",
    "    return np.sqrt(np.sum((x1 - x2)**2))\n"
   ]
  },
  {
   "cell_type": "markdown",
   "id": "bb61f2f5",
   "metadata": {},
   "source": [
    "Calculates the Euclidean distance between two data points (vectors) x1 and x2 to computes the square root of the sum of the squared differences between corresponding elements of the two vectors."
   ]
  },
  {
   "cell_type": "markdown",
   "id": "1f39ee8e",
   "metadata": {},
   "source": [
    "### Calculate Distances"
   ]
  },
  {
   "cell_type": "code",
   "execution_count": 7,
   "id": "c44e67cd",
   "metadata": {},
   "outputs": [],
   "source": [
    "def calculate_distances(X_train, X_test):\n",
    "    \"\"\"Calculate distances between each test point and all training points.\"\"\"\n",
    "    distances = []\n",
    "    for i in range(len(X_test)):\n",
    "        dist_row = [euclidean_distance(X_test[i], x) for x in X_train]\n",
    "        distances.append(dist_row)\n",
    "    return np.array(distances)"
   ]
  },
  {
   "cell_type": "markdown",
   "id": "bdd436dd",
   "metadata": {},
   "source": [
    "Calculates the distances between each test point in X_test and all training points in X_train. For each test point, it calculates the Euclidean distance to every training point, forming a list of distances for each test point."
   ]
  },
  {
   "cell_type": "markdown",
   "id": "caf95ad6",
   "metadata": {},
   "source": [
    "### Find Neighbors"
   ]
  },
  {
   "cell_type": "code",
   "execution_count": 8,
   "id": "20231cf9",
   "metadata": {},
   "outputs": [],
   "source": [
    "def find_neighbors(distances, k):\n",
    "    \"\"\"Find the indices of the k-nearest neighbors for each test point.\"\"\"\n",
    "    return np.argsort(distances, axis=1)[:, :k]\n"
   ]
  },
  {
   "cell_type": "markdown",
   "id": "4117ed2c",
   "metadata": {},
   "source": [
    "Identifies the indices of the k-nearest neighbors for each test point based on the calculated distances. It sorts each row of the distances matrix, which contains distances of each test point to all training points, and selects the indices of the first k nearest neighbors."
   ]
  },
  {
   "cell_type": "code",
   "execution_count": 9,
   "id": "6c80ff28",
   "metadata": {},
   "outputs": [],
   "source": [
    "### Majority Vote"
   ]
  },
  {
   "cell_type": "code",
   "execution_count": 10,
   "id": "6805291b",
   "metadata": {},
   "outputs": [],
   "source": [
    "def majority_vote(neighbors, y_train):\n",
    "    \"\"\"Perform majority voting to determine the predicted class for each test point.\"\"\"\n",
    "    return np.array([np.argmax(np.bincount(y_train[neighbor])) for neighbor in neighbors])\n"
   ]
  },
  {
   "cell_type": "markdown",
   "id": "538e5e71",
   "metadata": {},
   "source": [
    "Performs majority voting to determine the most common class among the k-nearest neighbors of each test point.\n",
    "For each test point, it looks at the classes of its k-nearest neighbors and chooses the class that appears most frequently."
   ]
  },
  {
   "cell_type": "markdown",
   "id": "589da4c2",
   "metadata": {},
   "source": [
    "### mykNN"
   ]
  },
  {
   "cell_type": "code",
   "execution_count": 11,
   "id": "c9b2f224",
   "metadata": {},
   "outputs": [],
   "source": [
    "def mykNN(X_train, y_train, X_test, k=5):\n",
    "    \"\"\"Perform k-Nearest Neighbors classification.\"\"\"\n",
    "    distances = calculate_distances(X_train, X_test)\n",
    "    neighbors = find_neighbors(distances, k)\n",
    "    y_pred = majority_vote(neighbors, y_train)\n",
    "    return y_pred\n"
   ]
  },
  {
   "cell_type": "markdown",
   "id": "83624e5e",
   "metadata": {},
   "source": [
    "Implements the k-Nearest Neighbors classification algorithm.For each test instance in X_test, it calculates distances to training instances, finds the k-nearest neighbors, and then uses majority voting to predict the class."
   ]
  },
  {
   "cell_type": "markdown",
   "id": "7ad9986e",
   "metadata": {},
   "source": [
    "### Predict Classification"
   ]
  },
  {
   "cell_type": "code",
   "execution_count": 12,
   "id": "472e85f3",
   "metadata": {},
   "outputs": [],
   "source": [
    "def predict_classification(X_train, y_train, test_instance, k):\n",
    "    distances = [euclidean_distance(test_instance, x_train) for x_train in X_train]\n",
    "    k_indices = np.argsort(distances)[:k]\n",
    "    k_nearest_labels = [y_train[i] for i in k_indices]\n",
    "    return np.argmax(np.bincount(k_nearest_labels))\n"
   ]
  },
  {
   "cell_type": "markdown",
   "id": "79412be0",
   "metadata": {},
   "source": [
    "Predicts the class for a single test instance using k-Nearest Neighbors.It calculates distances from the test instance to all training instances, identifies the k-nearest neighbors, and performs majority voting to predict the class."
   ]
  },
  {
   "cell_type": "markdown",
   "id": "46a1a076",
   "metadata": {},
   "source": [
    "### Accuracy Metric"
   ]
  },
  {
   "cell_type": "code",
   "execution_count": 13,
   "id": "bf677e39",
   "metadata": {},
   "outputs": [],
   "source": [
    "def accuracy_metric(y_true, y_pred):\n",
    "    correct = sum(y_t == y_p for y_t, y_p in zip(y_true, y_pred))\n",
    "    return correct / len(y_true) * 100"
   ]
  },
  {
   "cell_type": "markdown",
   "id": "f341a5c6",
   "metadata": {},
   "source": [
    "Calculates the accuracy of the model predictions. It compares the predicted classes (y_pred) with the actual classes (y_true) and calculates the proportion of correct predictions."
   ]
  },
  {
   "cell_type": "markdown",
   "id": "4834ade4",
   "metadata": {},
   "source": [
    "## Train the  model using base k = 5"
   ]
  },
  {
   "cell_type": "code",
   "execution_count": 14,
   "id": "a33dbd46",
   "metadata": {},
   "outputs": [],
   "source": [
    "# Split the dataset into a training set and a test set\n",
    "X_train, X_test, y_train, y_test = train_test_split(X, y, test_size=0.5, random_state=42)\n"
   ]
  },
  {
   "cell_type": "code",
   "execution_count": 15,
   "id": "d5ccfb7a",
   "metadata": {},
   "outputs": [],
   "source": [
    "# Normalize the data\n",
    "scaler = StandardScaler()\n",
    "X_train = scaler.fit_transform(X_train)\n",
    "X_test = scaler.transform(X_test)"
   ]
  },
  {
   "cell_type": "code",
   "execution_count": 16,
   "id": "df71cedf",
   "metadata": {},
   "outputs": [],
   "source": [
    "# Apply kNN classifier with the best k found\n",
    "k = 8 \n",
    "y_pred = mykNN(X_train, y_train, X_test, k=k)"
   ]
  },
  {
   "cell_type": "code",
   "execution_count": 17,
   "id": "40a29f2c",
   "metadata": {},
   "outputs": [
    {
     "data": {
      "image/png": "[encoded data removed]",
      "text/plain": [
       "<Figure size 640x480 with 1 Axes>"
      ]
     },
     "metadata": {},
     "output_type": "display_data"
    }
   ],
   "source": [
    "# Visualization\n",
    "plt.scatter(X_test[:, 0], X_test[:, 1], c=y_pred, marker='o', label='Predicted')\n",
    "plt.scatter(X_test[:, 0], X_test[:, 1], c=y_test, marker='x', label='Actual')\n",
    "plt.xlabel('Flavanoids')\n",
    "plt.ylabel('Proline')\n",
    "plt.title('kNN Classifier Predictions')\n",
    "plt.legend()\n",
    "plt.show()\n"
   ]
  },
  {
   "cell_type": "code",
   "execution_count": 18,
   "id": "975ad574",
   "metadata": {},
   "outputs": [
    {
     "name": "stdout",
     "output_type": "stream",
     "text": [
      "Cross-validation scores for kNN: [0.66666667 0.61111111 0.72222222 0.5        0.61111111 0.66666667\n",
      " 0.72222222 0.61111111 0.82352941 0.76470588]\n",
      "Mean accuracy: 0.6699\n",
      "Standard Deviation: 0.09\n"
     ]
    },
    {
     "name": "stderr",
     "output_type": "stream",
     "text": [
      "C:\\Users\\moham\\anaconda3\\lib\\site-packages\\sklearn\\neighbors\\_classification.py:228: FutureWarning: Unlike other reduction functions (e.g. `skew`, `kurtosis`), the default behavior of `mode` typically preserves the axis it acts along. In SciPy 1.11.0, this behavior will change: the default value of `keepdims` will become False, the `axis` over which the statistic is taken will be eliminated, and the value None will no longer be accepted. Set `keepdims` to True or False to avoid this warning.\n",
      "  mode, _ = stats.mode(_y[neigh_ind, k], axis=1)\n",
      "C:\\Users\\moham\\anaconda3\\lib\\site-packages\\sklearn\\neighbors\\_classification.py:228: FutureWarning: Unlike other reduction functions (e.g. `skew`, `kurtosis`), the default behavior of `mode` typically preserves the axis it acts along. In SciPy 1.11.0, this behavior will change: the default value of `keepdims` will become False, the `axis` over which the statistic is taken will be eliminated, and the value None will no longer be accepted. Set `keepdims` to True or False to avoid this warning.\n",
      "  mode, _ = stats.mode(_y[neigh_ind, k], axis=1)\n",
      "C:\\Users\\moham\\anaconda3\\lib\\site-packages\\sklearn\\neighbors\\_classification.py:228: FutureWarning: Unlike other reduction functions (e.g. `skew`, `kurtosis`), the default behavior of `mode` typically preserves the axis it acts along. In SciPy 1.11.0, this behavior will change: the default value of `keepdims` will become False, the `axis` over which the statistic is taken will be eliminated, and the value None will no longer be accepted. Set `keepdims` to True or False to avoid this warning.\n",
      "  mode, _ = stats.mode(_y[neigh_ind, k], axis=1)\n",
      "C:\\Users\\moham\\anaconda3\\lib\\site-packages\\sklearn\\neighbors\\_classification.py:228: FutureWarning: Unlike other reduction functions (e.g. `skew`, `kurtosis`), the default behavior of `mode` typically preserves the axis it acts along. In SciPy 1.11.0, this behavior will change: the default value of `keepdims` will become False, the `axis` over which the statistic is taken will be eliminated, and the value None will no longer be accepted. Set `keepdims` to True or False to avoid this warning.\n",
      "  mode, _ = stats.mode(_y[neigh_ind, k], axis=1)\n",
      "C:\\Users\\moham\\anaconda3\\lib\\site-packages\\sklearn\\neighbors\\_classification.py:228: FutureWarning: Unlike other reduction functions (e.g. `skew`, `kurtosis`), the default behavior of `mode` typically preserves the axis it acts along. In SciPy 1.11.0, this behavior will change: the default value of `keepdims` will become False, the `axis` over which the statistic is taken will be eliminated, and the value None will no longer be accepted. Set `keepdims` to True or False to avoid this warning.\n",
      "  mode, _ = stats.mode(_y[neigh_ind, k], axis=1)\n",
      "C:\\Users\\moham\\anaconda3\\lib\\site-packages\\sklearn\\neighbors\\_classification.py:228: FutureWarning: Unlike other reduction functions (e.g. `skew`, `kurtosis`), the default behavior of `mode` typically preserves the axis it acts along. In SciPy 1.11.0, this behavior will change: the default value of `keepdims` will become False, the `axis` over which the statistic is taken will be eliminated, and the value None will no longer be accepted. Set `keepdims` to True or False to avoid this warning.\n",
      "  mode, _ = stats.mode(_y[neigh_ind, k], axis=1)\n",
      "C:\\Users\\moham\\anaconda3\\lib\\site-packages\\sklearn\\neighbors\\_classification.py:228: FutureWarning: Unlike other reduction functions (e.g. `skew`, `kurtosis`), the default behavior of `mode` typically preserves the axis it acts along. In SciPy 1.11.0, this behavior will change: the default value of `keepdims` will become False, the `axis` over which the statistic is taken will be eliminated, and the value None will no longer be accepted. Set `keepdims` to True or False to avoid this warning.\n",
      "  mode, _ = stats.mode(_y[neigh_ind, k], axis=1)\n",
      "C:\\Users\\moham\\anaconda3\\lib\\site-packages\\sklearn\\neighbors\\_classification.py:228: FutureWarning: Unlike other reduction functions (e.g. `skew`, `kurtosis`), the default behavior of `mode` typically preserves the axis it acts along. In SciPy 1.11.0, this behavior will change: the default value of `keepdims` will become False, the `axis` over which the statistic is taken will be eliminated, and the value None will no longer be accepted. Set `keepdims` to True or False to avoid this warning.\n",
      "  mode, _ = stats.mode(_y[neigh_ind, k], axis=1)\n",
      "C:\\Users\\moham\\anaconda3\\lib\\site-packages\\sklearn\\neighbors\\_classification.py:228: FutureWarning: Unlike other reduction functions (e.g. `skew`, `kurtosis`), the default behavior of `mode` typically preserves the axis it acts along. In SciPy 1.11.0, this behavior will change: the default value of `keepdims` will become False, the `axis` over which the statistic is taken will be eliminated, and the value None will no longer be accepted. Set `keepdims` to True or False to avoid this warning.\n",
      "  mode, _ = stats.mode(_y[neigh_ind, k], axis=1)\n",
      "C:\\Users\\moham\\anaconda3\\lib\\site-packages\\sklearn\\neighbors\\_classification.py:228: FutureWarning: Unlike other reduction functions (e.g. `skew`, `kurtosis`), the default behavior of `mode` typically preserves the axis it acts along. In SciPy 1.11.0, this behavior will change: the default value of `keepdims` will become False, the `axis` over which the statistic is taken will be eliminated, and the value None will no longer be accepted. Set `keepdims` to True or False to avoid this warning.\n",
      "  mode, _ = stats.mode(_y[neigh_ind, k], axis=1)\n"
     ]
    }
   ],
   "source": [
    "from sklearn.model_selection import cross_val_score\n",
    "from sklearn.neighbors import KNeighborsClassifier\n",
    "from sklearn.metrics import make_scorer, f1_score\n",
    "# Create a kNN model instance with the best k found\n",
    "knn = KNeighborsClassifier(n_neighbors=k)\n",
    "\n",
    "# Perform cross-validation\n",
    "cv_scores = cross_val_score(knn, X, y, cv=10)  # cv is the number of folds\n",
    "\n",
    "# Calculate the average and standard deviation of the cross-validation scores\n",
    "cv_mean = cv_scores.mean()\n",
    "cv_std = cv_scores.std()\n",
    "\n",
    "print(f\"Cross-validation scores for kNN: {cv_scores}\")\n",
    "print(f\"Mean accuracy: {cv_mean:.4f}\")\n",
    "print(f\"Standard Deviation: {cv_std:.2f}\")\n"
   ]
  },
  {
   "cell_type": "markdown",
   "id": "fb0a1aae",
   "metadata": {},
   "source": [
    "# "
   ]
  },
  {
   "cell_type": "markdown",
   "id": "7a4e4e8f",
   "metadata": {},
   "source": [
    "## Train the model using best K value"
   ]
  },
  {
   "cell_type": "code",
   "execution_count": 19,
   "id": "5f2211bb",
   "metadata": {},
   "outputs": [
    {
     "name": "stdout",
     "output_type": "stream",
     "text": [
      "Accuracy for k=1: 84.27%\n",
      "Accuracy for k=2: 82.02%\n",
      "Accuracy for k=3: 88.76%\n",
      "Accuracy for k=4: 86.52%\n",
      "Accuracy for k=5: 88.76%\n",
      "Accuracy for k=6: 88.76%\n",
      "Accuracy for k=7: 88.76%\n",
      "Accuracy for k=8: 88.76%\n",
      "Accuracy for k=9: 91.01%\n",
      "Accuracy for k=10: 91.01%\n",
      "Accuracy for k=11: 91.01%\n",
      "Accuracy for k=12: 91.01%\n",
      "Accuracy for k=13: 91.01%\n",
      "Accuracy for k=14: 91.01%\n",
      "Accuracy for k=15: 91.01%\n",
      "Accuracy for k=16: 91.01%\n",
      "Accuracy for k=17: 91.01%\n",
      "Accuracy for k=18: 91.01%\n",
      "Accuracy for k=19: 92.13%\n",
      "Accuracy for k=20: 91.01%\n",
      "Accuracy for k=21: 92.13%\n",
      "Accuracy for k=22: 91.01%\n",
      "Accuracy for k=23: 91.01%\n",
      "Accuracy for k=24: 91.01%\n",
      "Accuracy for k=25: 91.01%\n",
      "Accuracy for k=26: 91.01%\n",
      "Accuracy for k=27: 91.01%\n",
      "Accuracy for k=28: 91.01%\n",
      "Accuracy for k=29: 92.13%\n",
      "Accuracy for k=30: 91.01%\n",
      "Accuracy for k=31: 92.13%\n",
      "Accuracy for k=32: 92.13%\n",
      "Accuracy for k=33: 91.01%\n",
      "Accuracy for k=34: 91.01%\n",
      "Accuracy for k=35: 89.89%\n",
      "Accuracy for k=36: 89.89%\n",
      "Accuracy for k=37: 89.89%\n",
      "Accuracy for k=38: 89.89%\n",
      "Accuracy for k=39: 89.89%\n",
      "Accuracy for k=40: 89.89%\n",
      "Accuracy for k=41: 89.89%\n",
      "Accuracy for k=42: 89.89%\n",
      "Accuracy for k=43: 87.64%\n",
      "Accuracy for k=44: 87.64%\n",
      "Accuracy for k=45: 87.64%\n",
      "Accuracy for k=46: 87.64%\n",
      "Accuracy for k=47: 86.52%\n",
      "Accuracy for k=48: 85.39%\n",
      "Accuracy for k=49: 84.27%\n",
      "Accuracy for k=50: 84.27%\n",
      "Accuracy for k=51: 84.27%\n",
      "Accuracy for k=52: 74.16%\n",
      "Accuracy for k=53: 66.29%\n",
      "Accuracy for k=54: 65.17%\n",
      "Accuracy for k=55: 64.04%\n",
      "Accuracy for k=56: 61.80%\n",
      "Accuracy for k=57: 60.67%\n",
      "Accuracy for k=58: 59.55%\n",
      "Accuracy for k=59: 59.55%\n",
      "Accuracy for k=60: 59.55%\n",
      "Accuracy for k=61: 55.06%\n",
      "Accuracy for k=62: 51.69%\n",
      "Accuracy for k=63: 50.56%\n",
      "Accuracy for k=64: 48.31%\n",
      "Accuracy for k=65: 48.31%\n",
      "Accuracy for k=66: 48.31%\n",
      "Accuracy for k=67: 48.31%\n",
      "Accuracy for k=68: 47.19%\n",
      "Accuracy for k=69: 44.94%\n",
      "Accuracy for k=70: 43.82%\n",
      "Accuracy for k=71: 42.70%\n",
      "Accuracy for k=72: 41.57%\n",
      "Accuracy for k=73: 40.45%\n",
      "Accuracy for k=74: 40.45%\n",
      "Accuracy for k=75: 39.33%\n",
      "Accuracy for k=76: 38.20%\n",
      "Accuracy for k=77: 38.20%\n",
      "Accuracy for k=78: 38.20%\n",
      "Accuracy for k=79: 38.20%\n",
      "Accuracy for k=80: 38.20%\n",
      "Accuracy for k=81: 38.20%\n",
      "Accuracy for k=82: 38.20%\n",
      "Accuracy for k=83: 38.20%\n",
      "Accuracy for k=84: 38.20%\n",
      "Accuracy for k=85: 38.20%\n",
      "Accuracy for k=86: 38.20%\n",
      "Accuracy for k=87: 38.20%\n",
      "Accuracy for k=88: 38.20%\n",
      "Accuracy for k=89: 38.20%\n",
      "Accuracy for k=90: 38.20%\n",
      "Accuracy for k=91: 38.20%\n",
      "Accuracy for k=92: 38.20%\n",
      "Accuracy for k=93: 38.20%\n",
      "Accuracy for k=94: 38.20%\n",
      "Accuracy for k=95: 38.20%\n",
      "Accuracy for k=96: 38.20%\n",
      "Accuracy for k=97: 38.20%\n",
      "Accuracy for k=98: 38.20%\n",
      "Accuracy for k=99: 38.20%\n",
      "Accuracy for k=100: 38.20%\n",
      "The best k is 19 with an accuracy of 92.13%\n"
     ]
    }
   ],
   "source": [
    "# Initialize variables\n",
    "k_values = []\n",
    "accuracies = []\n",
    "k = 1\n",
    "best_k = k\n",
    "best_accuracy = 0\n",
    "threshold_accuracy = 100\n",
    "\n",
    "# Iterate until you reach the desired accuracy or the maximum k value\n",
    "while k <= 100 and best_accuracy < threshold_accuracy:\n",
    "    predictions = [predict_classification(X_train, y_train, test_instance, k) for test_instance in X_test]\n",
    "    model_accuracy = accuracy_metric(y_test, predictions)\n",
    "    \n",
    "    # Store k and the corresponding accuracy\n",
    "    k_values.append(k)\n",
    "    accuracies.append(model_accuracy)\n",
    "    \n",
    "    print(f\"Accuracy for k={k}: {model_accuracy:.2f}%\")\n",
    "    \n",
    "    # Update best_k and best_accuracy if the current model's accuracy is better\n",
    "    if model_accuracy > best_accuracy:\n",
    "        best_accuracy = model_accuracy\n",
    "        best_k = k\n",
    "    \n",
    "    # Increment k for the next iteration\n",
    "    k += 1\n",
    "\n",
    "# Print out the best k and its accuracy\n",
    "print(f\"The best k is {best_k} with an accuracy of {best_accuracy:.2f}%\")\n"
   ]
  },
  {
   "cell_type": "code",
   "execution_count": 20,
   "id": "21ff0c11",
   "metadata": {},
   "outputs": [
    {
     "data": {
      "image/png": "[encoded data removed]",
      "text/plain": [
       "<Figure size 1000x600 with 1 Axes>"
      ]
     },
     "metadata": {},
     "output_type": "display_data"
    }
   ],
   "source": [
    "# Plotting the results\n",
    "plt.figure(figsize=(10, 6))\n",
    "plt.plot(k_values, accuracies, marker='o', linestyle='-', color='b')\n",
    "plt.title('kNN Accuracy for different k values')\n",
    "plt.xlabel('k value')\n",
    "plt.ylabel('Accuracy (%)')\n",
    "plt.grid(True)\n",
    "plt.axhline(y=threshold_accuracy, color='r', linestyle='--', label=f'Threshold Accuracy ({threshold_accuracy}%)')\n",
    "plt.axvline(x=best_k, color='g', linestyle='--', label=f'Best k ({best_k})')\n",
    "plt.legend()\n",
    "plt.show()\n"
   ]
  },
  {
   "cell_type": "code",
   "execution_count": 21,
   "id": "985801db",
   "metadata": {},
   "outputs": [],
   "source": [
    "# Apply kNN classifier with the best k found\n",
    "best_k = 19 \n",
    "y_pred = mykNN(X_train, y_train, X_test, k=best_k)"
   ]
  },
  {
   "cell_type": "code",
   "execution_count": 22,
   "id": "92abb1bb",
   "metadata": {},
   "outputs": [
    {
     "data": {
      "image/png": "[encoded data removed]",
      "text/plain": [
       "<Figure size 640x480 with 1 Axes>"
      ]
     },
     "metadata": {},
     "output_type": "display_data"
    }
   ],
   "source": [
    "# Visualization\n",
    "plt.scatter(X_test[:, 0], X_test[:, 1], c=y_pred, marker='o', label='Predicted')\n",
    "plt.scatter(X_test[:, 0], X_test[:, 1], c=y_test, marker='x', label='Actual')\n",
    "plt.xlabel('Flavanoids')\n",
    "plt.ylabel('Proline')\n",
    "plt.title('kNN Classifier Predictions')\n",
    "plt.legend()\n",
    "plt.show()\n"
   ]
  },
  {
   "cell_type": "markdown",
   "id": "53995ef3",
   "metadata": {},
   "source": [
    "### The performance of a classification algorithm in a two-dimensional feature space.\n",
    "\n",
    "<b>Data Distribution:</b> These properties are useful for the task of identifying wine types, as indicated by the distribution of the data points, which suggests some degree of separability between classes.\n",
    "\n",
    "<b>Prediction Accuracy:</b> In a number of graph locations, the overlap between the predicted points (circles) and actual points (crosses) indicates that the kNN classifier produced accurate predictions in those areas. However, misclassifications are indicated in certain places where the projected and real labels do not overlap.\n",
    "\n",
    "<b>Possible Decision limits:</b> Based on the grouping of the same-coloured spots, you can deduce where the decision limits may be, even though they aren't indicated clearly on this plot. It seems that the classifier would produce predictions that are quite consistent within a given range of flavonoids and proline levels.\n",
    "\n",
    "<b>Feature Scale:</b> As observed by the axis values, both features are scaled and standardized, which is an excellent preprocessing step for kNN.\n",
    "\n",
    "<b>Misclassifications:</b> Particularly in the yellow and teal-colored clusters, there are several actual points (crosses) that do not have a neighboring projected counterpart. This could point to areas where the closest neighbour rule is failing to pick up on the underlying pattern or where the classifier is less confident.\n",
    "\n",
    "<b>Colour Overlap:</b> It may be challenging to discern between accurate predictions and mistakes due to the overlap of the colours used for the projected and real spots. To further emphasize this distinction, think about employing unique forms or non-overlapping colours in the next visualizations."
   ]
  },
  {
   "cell_type": "code",
   "execution_count": 23,
   "id": "0169c644",
   "metadata": {},
   "outputs": [
    {
     "name": "stdout",
     "output_type": "stream",
     "text": [
      "Cross-validation scores for kNN: [0.66666667 0.83333333 0.61111111 0.61111111 0.61111111 0.72222222\n",
      " 0.83333333 0.66666667 0.76470588 0.82352941]\n",
      "Mean accuracy: 0.7144\n",
      "Standard Deviation: 0.09\n"
     ]
    },
    {
     "name": "stderr",
     "output_type": "stream",
     "text": [
      "C:\\Users\\moham\\anaconda3\\lib\\site-packages\\sklearn\\neighbors\\_classification.py:228: FutureWarning: Unlike other reduction functions (e.g. `skew`, `kurtosis`), the default behavior of `mode` typically preserves the axis it acts along. In SciPy 1.11.0, this behavior will change: the default value of `keepdims` will become False, the `axis` over which the statistic is taken will be eliminated, and the value None will no longer be accepted. Set `keepdims` to True or False to avoid this warning.\n",
      "  mode, _ = stats.mode(_y[neigh_ind, k], axis=1)\n",
      "C:\\Users\\moham\\anaconda3\\lib\\site-packages\\sklearn\\neighbors\\_classification.py:228: FutureWarning: Unlike other reduction functions (e.g. `skew`, `kurtosis`), the default behavior of `mode` typically preserves the axis it acts along. In SciPy 1.11.0, this behavior will change: the default value of `keepdims` will become False, the `axis` over which the statistic is taken will be eliminated, and the value None will no longer be accepted. Set `keepdims` to True or False to avoid this warning.\n",
      "  mode, _ = stats.mode(_y[neigh_ind, k], axis=1)\n",
      "C:\\Users\\moham\\anaconda3\\lib\\site-packages\\sklearn\\neighbors\\_classification.py:228: FutureWarning: Unlike other reduction functions (e.g. `skew`, `kurtosis`), the default behavior of `mode` typically preserves the axis it acts along. In SciPy 1.11.0, this behavior will change: the default value of `keepdims` will become False, the `axis` over which the statistic is taken will be eliminated, and the value None will no longer be accepted. Set `keepdims` to True or False to avoid this warning.\n",
      "  mode, _ = stats.mode(_y[neigh_ind, k], axis=1)\n",
      "C:\\Users\\moham\\anaconda3\\lib\\site-packages\\sklearn\\neighbors\\_classification.py:228: FutureWarning: Unlike other reduction functions (e.g. `skew`, `kurtosis`), the default behavior of `mode` typically preserves the axis it acts along. In SciPy 1.11.0, this behavior will change: the default value of `keepdims` will become False, the `axis` over which the statistic is taken will be eliminated, and the value None will no longer be accepted. Set `keepdims` to True or False to avoid this warning.\n",
      "  mode, _ = stats.mode(_y[neigh_ind, k], axis=1)\n",
      "C:\\Users\\moham\\anaconda3\\lib\\site-packages\\sklearn\\neighbors\\_classification.py:228: FutureWarning: Unlike other reduction functions (e.g. `skew`, `kurtosis`), the default behavior of `mode` typically preserves the axis it acts along. In SciPy 1.11.0, this behavior will change: the default value of `keepdims` will become False, the `axis` over which the statistic is taken will be eliminated, and the value None will no longer be accepted. Set `keepdims` to True or False to avoid this warning.\n",
      "  mode, _ = stats.mode(_y[neigh_ind, k], axis=1)\n",
      "C:\\Users\\moham\\anaconda3\\lib\\site-packages\\sklearn\\neighbors\\_classification.py:228: FutureWarning: Unlike other reduction functions (e.g. `skew`, `kurtosis`), the default behavior of `mode` typically preserves the axis it acts along. In SciPy 1.11.0, this behavior will change: the default value of `keepdims` will become False, the `axis` over which the statistic is taken will be eliminated, and the value None will no longer be accepted. Set `keepdims` to True or False to avoid this warning.\n",
      "  mode, _ = stats.mode(_y[neigh_ind, k], axis=1)\n",
      "C:\\Users\\moham\\anaconda3\\lib\\site-packages\\sklearn\\neighbors\\_classification.py:228: FutureWarning: Unlike other reduction functions (e.g. `skew`, `kurtosis`), the default behavior of `mode` typically preserves the axis it acts along. In SciPy 1.11.0, this behavior will change: the default value of `keepdims` will become False, the `axis` over which the statistic is taken will be eliminated, and the value None will no longer be accepted. Set `keepdims` to True or False to avoid this warning.\n",
      "  mode, _ = stats.mode(_y[neigh_ind, k], axis=1)\n",
      "C:\\Users\\moham\\anaconda3\\lib\\site-packages\\sklearn\\neighbors\\_classification.py:228: FutureWarning: Unlike other reduction functions (e.g. `skew`, `kurtosis`), the default behavior of `mode` typically preserves the axis it acts along. In SciPy 1.11.0, this behavior will change: the default value of `keepdims` will become False, the `axis` over which the statistic is taken will be eliminated, and the value None will no longer be accepted. Set `keepdims` to True or False to avoid this warning.\n",
      "  mode, _ = stats.mode(_y[neigh_ind, k], axis=1)\n",
      "C:\\Users\\moham\\anaconda3\\lib\\site-packages\\sklearn\\neighbors\\_classification.py:228: FutureWarning: Unlike other reduction functions (e.g. `skew`, `kurtosis`), the default behavior of `mode` typically preserves the axis it acts along. In SciPy 1.11.0, this behavior will change: the default value of `keepdims` will become False, the `axis` over which the statistic is taken will be eliminated, and the value None will no longer be accepted. Set `keepdims` to True or False to avoid this warning.\n",
      "  mode, _ = stats.mode(_y[neigh_ind, k], axis=1)\n",
      "C:\\Users\\moham\\anaconda3\\lib\\site-packages\\sklearn\\neighbors\\_classification.py:228: FutureWarning: Unlike other reduction functions (e.g. `skew`, `kurtosis`), the default behavior of `mode` typically preserves the axis it acts along. In SciPy 1.11.0, this behavior will change: the default value of `keepdims` will become False, the `axis` over which the statistic is taken will be eliminated, and the value None will no longer be accepted. Set `keepdims` to True or False to avoid this warning.\n",
      "  mode, _ = stats.mode(_y[neigh_ind, k], axis=1)\n"
     ]
    }
   ],
   "source": [
    "from sklearn.model_selection import cross_val_score\n",
    "from sklearn.neighbors import KNeighborsClassifier\n",
    "from sklearn.metrics import make_scorer, f1_score\n",
    "# Create a kNN model instance with the best k found\n",
    "knn = KNeighborsClassifier(n_neighbors=best_k)\n",
    "\n",
    "# Perform cross-validation\n",
    "cv_scores = cross_val_score(knn, X, y, cv=10)  # cv is the number of folds\n",
    "\n",
    "# Calculate the average and standard deviation of the cross-validation scores\n",
    "cv_mean = cv_scores.mean()\n",
    "cv_std = cv_scores.std()\n",
    "\n",
    "print(f\"Cross-validation scores for kNN: {cv_scores}\")\n",
    "print(f\"Mean accuracy: {cv_mean:.4f}\")\n",
    "print(f\"Standard Deviation: {cv_std:.2f}\")\n"
   ]
  },
  {
   "cell_type": "code",
   "execution_count": 24,
   "id": "78a1ace6",
   "metadata": {},
   "outputs": [
    {
     "name": "stdout",
     "output_type": "stream",
     "text": [
      "Accuracy: 92.13%\n",
      "Precision: 92.46%\n",
      "Recall: 92.13%\n",
      "F1 Score: 92.13%\n"
     ]
    }
   ],
   "source": [
    "from sklearn.metrics import accuracy_score, precision_score, recall_score, f1_score\n",
    "\n",
    "# Calculate accuracy, precision, recall, and F1 score\n",
    "accuracy = accuracy_score(y_test, y_pred)\n",
    "precision = precision_score(y_test, y_pred, average='weighted')  # Use 'micro', 'macro', or 'weighted' for multi-class\n",
    "recall = recall_score(y_test, y_pred, average='weighted')\n",
    "f1 = f1_score(y_test, y_pred, average='weighted')\n",
    "\n",
    "# Print the scores as percentages\n",
    "print(f\"Accuracy: {accuracy * 100:.2f}%\")\n",
    "print(f\"Precision: {precision * 100:.2f}%\")\n",
    "print(f\"Recall: {recall * 100:.2f}%\")\n",
    "print(f\"F1 Score: {f1 * 100:.2f}%\")\n"
   ]
  },
  {
   "cell_type": "markdown",
   "id": "7a0dc742",
   "metadata": {},
   "source": [
    "# "
   ]
  },
  {
   "cell_type": "markdown",
   "id": "2a48bef3",
   "metadata": {},
   "source": [
    "### Summary"
   ]
  },
  {
   "cell_type": "markdown",
   "id": "51857ea8",
   "metadata": {},
   "source": [
    "The Wine dataset was used to evaluate the effectiveness of the k-Nearest Neighbors (kNN) method in terms of classification performance. Based on the chemical relevance of flavonoids and proline in wines, two essential features were chosen, and a kNN classifier was created from the ground up. The classifier was fine-tuned by evaluating a variety of k values; the maximum accuracy was obtained at k=19, indicating that the test set's classification performance was enhanced by having a bigger collection of neighbours."
   ]
  },
  {
   "cell_type": "markdown",
   "id": "3049af5c",
   "metadata": {},
   "source": [
    "### Conclusion"
   ]
  },
  {
   "cell_type": "markdown",
   "id": "6967a2f7",
   "metadata": {},
   "source": [
    "The analysis concludes that the different wine kinds in the dataset have been correctly classified by the kNN algorithm using the selected attributes. The high accuracy attained suggests that kNN was suitable for the complexity of the data and that the features chosen were important. But the results also show how crucial it is to use cross-validation to validate model performance in order to make sure that the results aren't unduly optimistic as a result of a specific data split. Furthermore, even though k=19 in this case offered the best accuracy, it's important to weigh the trade-off between the possibility of underfitting and a higher k value. To improve the comprehension and classification even further, future research could investigate additional feature subsets, dimensionality reduction strategies, and a comparison of kNN with alternative classifiers. "
   ]
  },
  {
   "cell_type": "markdown",
   "id": "0808d6f7",
   "metadata": {},
   "source": [
    "# "
   ]
  },
  {
   "cell_type": "markdown",
   "id": "db37412e",
   "metadata": {},
   "source": [
    "# Second algorithm - Decision Tree"
   ]
  },
  {
   "cell_type": "code",
   "execution_count": 25,
   "id": "3b387fe5",
   "metadata": {},
   "outputs": [],
   "source": [
    "# Import necessary libraries\n",
    "from sklearn import datasets\n",
    "from sklearn.tree import DecisionTreeClassifier\n",
    "from sklearn.model_selection import train_test_split\n",
    "from sklearn.preprocessing import StandardScaler,RobustScaler\n",
    "from sklearn.metrics import accuracy_score\n",
    "import pandas as pd\n",
    "import matplotlib.pyplot as plt\n",
    "from sklearn.tree import plot_tree"
   ]
  },
  {
   "cell_type": "code",
   "execution_count": 26,
   "id": "86990988",
   "metadata": {},
   "outputs": [],
   "source": [
    "# Load the Wine dataset\n",
    "wine = datasets.load_wine()"
   ]
  },
  {
   "cell_type": "code",
   "execution_count": 27,
   "id": "950c2561",
   "metadata": {},
   "outputs": [],
   "source": [
    "# Create a DataFrame from the dataset for easier manipulation\n",
    "df_wine = pd.DataFrame(wine.data, columns=wine.feature_names)\n",
    "df_wine['target'] = wine.target"
   ]
  },
  {
   "cell_type": "code",
   "execution_count": 28,
   "id": "c1411744",
   "metadata": {},
   "outputs": [
    {
     "data": {
      "text/html": [
       "<div>\n",
       "<style scoped>\n",
       "    .dataframe tbody tr th:only-of-type {\n",
       "        vertical-align: middle;\n",
       "    }\n",
       "\n",
       "    .dataframe tbody tr th {\n",
       "        vertical-align: top;\n",
       "    }\n",
       "\n",
       "    .dataframe thead th {\n",
       "        text-align: right;\n",
       "    }\n",
       "</style>\n",
       "<table border=\"1\" class=\"dataframe\">\n",
       "  <thead>\n",
       "    <tr style=\"text-align: right;\">\n",
       "      <th></th>\n",
       "      <th>alcohol</th>\n",
       "      <th>malic_acid</th>\n",
       "      <th>total_phenols</th>\n",
       "      <th>flavanoids</th>\n",
       "      <th>color_intensity</th>\n",
       "      <th>proline</th>\n",
       "    </tr>\n",
       "  </thead>\n",
       "  <tbody>\n",
       "    <tr>\n",
       "      <th>0</th>\n",
       "      <td>14.23</td>\n",
       "      <td>1.71</td>\n",
       "      <td>2.80</td>\n",
       "      <td>3.06</td>\n",
       "      <td>5.64</td>\n",
       "      <td>1065.0</td>\n",
       "    </tr>\n",
       "    <tr>\n",
       "      <th>1</th>\n",
       "      <td>13.20</td>\n",
       "      <td>1.78</td>\n",
       "      <td>2.65</td>\n",
       "      <td>2.76</td>\n",
       "      <td>4.38</td>\n",
       "      <td>1050.0</td>\n",
       "    </tr>\n",
       "    <tr>\n",
       "      <th>2</th>\n",
       "      <td>13.16</td>\n",
       "      <td>2.36</td>\n",
       "      <td>2.80</td>\n",
       "      <td>3.24</td>\n",
       "      <td>5.68</td>\n",
       "      <td>1185.0</td>\n",
       "    </tr>\n",
       "    <tr>\n",
       "      <th>3</th>\n",
       "      <td>14.37</td>\n",
       "      <td>1.95</td>\n",
       "      <td>3.85</td>\n",
       "      <td>3.49</td>\n",
       "      <td>7.80</td>\n",
       "      <td>1480.0</td>\n",
       "    </tr>\n",
       "    <tr>\n",
       "      <th>4</th>\n",
       "      <td>13.24</td>\n",
       "      <td>2.59</td>\n",
       "      <td>2.80</td>\n",
       "      <td>2.69</td>\n",
       "      <td>4.32</td>\n",
       "      <td>735.0</td>\n",
       "    </tr>\n",
       "    <tr>\n",
       "      <th>...</th>\n",
       "      <td>...</td>\n",
       "      <td>...</td>\n",
       "      <td>...</td>\n",
       "      <td>...</td>\n",
       "      <td>...</td>\n",
       "      <td>...</td>\n",
       "    </tr>\n",
       "    <tr>\n",
       "      <th>173</th>\n",
       "      <td>13.71</td>\n",
       "      <td>5.65</td>\n",
       "      <td>1.68</td>\n",
       "      <td>0.61</td>\n",
       "      <td>7.70</td>\n",
       "      <td>740.0</td>\n",
       "    </tr>\n",
       "    <tr>\n",
       "      <th>174</th>\n",
       "      <td>13.40</td>\n",
       "      <td>3.91</td>\n",
       "      <td>1.80</td>\n",
       "      <td>0.75</td>\n",
       "      <td>7.30</td>\n",
       "      <td>750.0</td>\n",
       "    </tr>\n",
       "    <tr>\n",
       "      <th>175</th>\n",
       "      <td>13.27</td>\n",
       "      <td>4.28</td>\n",
       "      <td>1.59</td>\n",
       "      <td>0.69</td>\n",
       "      <td>10.20</td>\n",
       "      <td>835.0</td>\n",
       "    </tr>\n",
       "    <tr>\n",
       "      <th>176</th>\n",
       "      <td>13.17</td>\n",
       "      <td>2.59</td>\n",
       "      <td>1.65</td>\n",
       "      <td>0.68</td>\n",
       "      <td>9.30</td>\n",
       "      <td>840.0</td>\n",
       "    </tr>\n",
       "    <tr>\n",
       "      <th>177</th>\n",
       "      <td>14.13</td>\n",
       "      <td>4.10</td>\n",
       "      <td>2.05</td>\n",
       "      <td>0.76</td>\n",
       "      <td>9.20</td>\n",
       "      <td>560.0</td>\n",
       "    </tr>\n",
       "  </tbody>\n",
       "</table>\n",
       "<p>178 rows × 6 columns</p>\n",
       "</div>"
      ],
      "text/plain": [
       "     alcohol  malic_acid  total_phenols  flavanoids  color_intensity  proline\n",
       "0      14.23        1.71           2.80        3.06             5.64   1065.0\n",
       "1      13.20        1.78           2.65        2.76             4.38   1050.0\n",
       "2      13.16        2.36           2.80        3.24             5.68   1185.0\n",
       "3      14.37        1.95           3.85        3.49             7.80   1480.0\n",
       "4      13.24        2.59           2.80        2.69             4.32    735.0\n",
       "..       ...         ...            ...         ...              ...      ...\n",
       "173    13.71        5.65           1.68        0.61             7.70    740.0\n",
       "174    13.40        3.91           1.80        0.75             7.30    750.0\n",
       "175    13.27        4.28           1.59        0.69            10.20    835.0\n",
       "176    13.17        2.59           1.65        0.68             9.30    840.0\n",
       "177    14.13        4.10           2.05        0.76             9.20    560.0\n",
       "\n",
       "[178 rows x 6 columns]"
      ]
     },
     "execution_count": 28,
     "metadata": {},
     "output_type": "execute_result"
    }
   ],
   "source": [
    "# Define the features and the target\n",
    "selected_features = ['alcohol', 'malic_acid', 'total_phenols', 'flavanoids', 'color_intensity', 'proline']\n",
    "df_selected_features = df_wine[selected_features]\n",
    "\n",
    "X = df_wine[selected_features].values\n",
    "y = df_wine['target'].values\n",
    "\n",
    "df_selected_features"
   ]
  },
  {
   "cell_type": "code",
   "execution_count": 29,
   "id": "e0ddc015",
   "metadata": {},
   "outputs": [],
   "source": [
    "# Split the dataset into training and testing sets\n",
    "X_train, X_test, y_train, y_test = train_test_split(X, y, test_size=0.3, random_state=42)"
   ]
  },
  {
   "cell_type": "markdown",
   "id": "3ce3b767",
   "metadata": {},
   "source": [
    "This part of the code separates the dataset into two parts: the training set, which is used to train the machine learning model, and the test set, which is used to assess the model's performance. It does this by using the train_test_split function from sklearn.model_selection."
   ]
  },
  {
   "cell_type": "code",
   "execution_count": 30,
   "id": "be2eaf88",
   "metadata": {},
   "outputs": [],
   "source": [
    "# Scale the features\n",
    "scaler = RobustScaler()\n",
    "X_train = scaler.fit_transform(X_train)\n",
    "X_test = scaler.transform(X_test)"
   ]
  },
  {
   "cell_type": "markdown",
   "id": "d467b4e0",
   "metadata": {},
   "source": [
    "Considering Decision Trees and many other machine learning algorithms are sensitive to the scale of the input characteristics, it is crucial to scale features to a common scale. Improved performance and more stable models can result from standardizing the features to be centred around zero with one standard deviation."
   ]
  },
  {
   "cell_type": "code",
   "execution_count": 31,
   "id": "05ff7feb",
   "metadata": {},
   "outputs": [],
   "source": [
    "# Initialize the Decision Tree Classifier\n",
    "decision_tree = DecisionTreeClassifier(random_state=42)"
   ]
  },
  {
   "cell_type": "code",
   "execution_count": 32,
   "id": "144ad3d0",
   "metadata": {},
   "outputs": [
    {
     "data": {
      "text/plain": [
       "DecisionTreeClassifier(random_state=42)"
      ]
     },
     "execution_count": 32,
     "metadata": {},
     "output_type": "execute_result"
    }
   ],
   "source": [
    "# Train the classifier on the training data\n",
    "decision_tree.fit(X_train, y_train)"
   ]
  },
  {
   "cell_type": "markdown",
   "id": "7f56f8b1",
   "metadata": {},
   "source": [
    "In order to effectively divide the classes in the target variable, the algorithm will learn how to split the data at each node in the tree depending on the feature values. Developing a model with good generalization to new, untested data is the aim."
   ]
  },
  {
   "cell_type": "code",
   "execution_count": 33,
   "id": "a15dba09",
   "metadata": {},
   "outputs": [],
   "source": [
    "# Predict the labels on the test set\n",
    "y_pred = decision_tree.predict(X_test)"
   ]
  },
  {
   "cell_type": "markdown",
   "id": "5187b01e",
   "metadata": {},
   "source": [
    "This part of the code makes predictions on the data in X_test using the predict method of the decision_tree object, which is an instance of DecisionTreeClassifier. The y_pred array contains the predicted class labels that the technique generates for each sample in the test set."
   ]
  },
  {
   "cell_type": "code",
   "execution_count": 34,
   "id": "897d684f",
   "metadata": {},
   "outputs": [
    {
     "name": "stdout",
     "output_type": "stream",
     "text": [
      "Decision Tree Classifier Accuracy: 96.30%\n"
     ]
    }
   ],
   "source": [
    "# Calculate the accuracy of the classifier\n",
    "accuracy = accuracy_score(y_test, y_pred)\n",
    "\n",
    "# Print the accuracy\n",
    "print(f\"Decision Tree Classifier Accuracy: {accuracy * 100:.2f}%\")"
   ]
  },
  {
   "cell_type": "markdown",
   "id": "ae830566",
   "metadata": {},
   "source": [
    "The code calculates the accuracy of a Decision Tree Classifier, which is the percentage of test set predictions that are correct. Higher accuracy indicates better model performance."
   ]
  },
  {
   "cell_type": "code",
   "execution_count": 35,
   "id": "e3bb353d",
   "metadata": {},
   "outputs": [
    {
     "data": {
      "image/png": "[encoded data removed]",
      "text/plain": [
       "<Figure size 2000x2000 with 1 Axes>"
      ]
     },
     "metadata": {},
     "output_type": "display_data"
    }
   ],
   "source": [
    "# Visualize the decision tree\n",
    "plt.figure(figsize=(20, 20))  # Adjust the size as needed\n",
    "tree_plot = plot_tree(decision_tree, filled=True, feature_names=selected_features, \n",
    "                      class_names=wine.target_names,max_depth=6, fontsize=10)\n",
    "plt.title(\"Decision Tree trained on Wine dataset\")\n",
    "plt.show()"
   ]
  },
  {
   "cell_type": "markdown",
   "id": "31722338",
   "metadata": {},
   "source": [
    "This code visualizes a trained Decision Tree with a depth limited to 5 levels. It creates a large plot for clarity and colors the nodes to indicate the majority class. Feature names and class labels are included for interpretability."
   ]
  },
  {
   "cell_type": "markdown",
   "id": "2df3c1bd",
   "metadata": {},
   "source": [
    "## Decision Tree \n",
    "\n",
    "Each node in the tree represents a condition based on one of the wine's features that helps to classify the wine into one of the target classes. The leaves (end nodes) represent the classifications.\n",
    "\n",
    "<b>Proline and Flavanoids</b> are significant features used at the top levels of the tree, suggesting they are important in determining the wine's classification.\n",
    "\n",
    "<b>Gini Impurity:</b> Lower values suggest a high degree of class purity in the nodes. For example, nodes with a Gini impurity of 0 are perfectly pure and correctly classify the samples.\n",
    "\n",
    "<b>Class Labels:</b> Each node indicates the majority class within that node, with the final classification being the one with the majority vote at the leaves.\n",
    "\n",
    "<b>Sample Counts:</b> The number of samples at each node gives us an idea of how many data points fall into each category defined by the tree's rules.\n",
    "\n",
    "The high accuracy indicates that the Decision Tree has learned to effectively classify the wines based on these features."
   ]
  },
  {
   "cell_type": "code",
   "execution_count": 36,
   "id": "abfaa16a",
   "metadata": {},
   "outputs": [
    {
     "name": "stdout",
     "output_type": "stream",
     "text": [
      "Cross-validation scores for Decision Tree: [0.88888889 0.88888889 0.83333333 0.88888889 0.83333333 0.94444444\n",
      " 1.         0.94444444 1.         0.76470588]\n",
      "Mean accuracy: 0.90\n",
      "Standard Deviation: 0.07\n"
     ]
    }
   ],
   "source": [
    "from sklearn.model_selection import cross_val_score\n",
    "from sklearn.tree import DecisionTreeClassifier\n",
    "\n",
    "# Create a decision tree model instance\n",
    "decision_tree = DecisionTreeClassifier(random_state=42)\n",
    "\n",
    "# Perform cross-validation\n",
    "cv_scores = cross_val_score(decision_tree, X, y, cv=10)  # cv is the number of folds\n",
    "\n",
    "# Calculate the average and standard deviation of the cross-validation scores\n",
    "cv_mean = cv_scores.mean()\n",
    "cv_std = cv_scores.std()\n",
    "\n",
    "print(f\"Cross-validation scores for Decision Tree: {cv_scores}\")\n",
    "print(f\"Mean accuracy: {cv_mean:.2f}\")\n",
    "print(f\"Standard Deviation: {cv_std:.2f}\")\n"
   ]
  },
  {
   "cell_type": "code",
   "execution_count": 37,
   "id": "b6a1bec9",
   "metadata": {},
   "outputs": [
    {
     "name": "stdout",
     "output_type": "stream",
     "text": [
      "Decision Tree Accuracy: 96.30%\n",
      "Decision Tree Precision: 96.38%\n",
      "Decision Tree Recall: 96.30%\n",
      "Decision Tree F1 Score: 96.28%\n"
     ]
    }
   ],
   "source": [
    "# Split the dataset into training and testing sets\n",
    "X_train, X_test, y_train, y_test = train_test_split(X, y, test_size=0.3, random_state=42)\n",
    "\n",
    "# Initialize the Decision Tree Classifier\n",
    "decision_tree = DecisionTreeClassifier(random_state=42)\n",
    "\n",
    "# Train the classifier on the training data\n",
    "decision_tree.fit(X_train, y_train)\n",
    "\n",
    "# Make predictions on the test set\n",
    "y_pred_tree = decision_tree.predict(X_test)\n",
    "\n",
    "# Calculate accuracy, precision, recall, and F1 score for Decision Tree\n",
    "accuracy_tree = accuracy_score(y_test, y_pred_tree)\n",
    "precision_tree = precision_score(y_test, y_pred_tree, average='weighted')\n",
    "recall_tree = recall_score(y_test, y_pred_tree, average='weighted')\n",
    "f1_tree = f1_score(y_test, y_pred_tree, average='weighted')\n",
    "\n",
    "# Print the scores as percentages for Decision Tree\n",
    "print(f\"Decision Tree Accuracy: {accuracy_tree * 100:.2f}%\")\n",
    "print(f\"Decision Tree Precision: {precision_tree * 100:.2f}%\")\n",
    "print(f\"Decision Tree Recall: {recall_tree * 100:.2f}%\")\n",
    "print(f\"Decision Tree F1 Score: {f1_tree * 100:.2f}%\")\n"
   ]
  },
  {
   "cell_type": "markdown",
   "id": "b052d3e0",
   "metadata": {},
   "source": [
    "# "
   ]
  },
  {
   "cell_type": "markdown",
   "id": "c6cd85de",
   "metadata": {},
   "source": [
    "## Conclusion"
   ]
  },
  {
   "cell_type": "markdown",
   "id": "f4e2f203",
   "metadata": {},
   "source": [
    "The Decision Tree model performed exceptionally well, with a 96.30% accuracy rate on the test data. This suggests that, given the chosen features, the model is capable of accurately differentiating between the various wine classes. The main characteristics that caused splits in the decision nodes, 'Proline' and 'Flavanoids' in particular, have been found to be important indicators of wine categorization, consistent with their established influence on wine chemistry and quality. The tree's depth at five levels indicates that the data was sufficiently detailed while avoiding overfitting; nonetheless, additional validation, such as cross-validation, would be helpful to verify the model's generalizability.\n",
    "\n",
    "There are significant distinctions between various classes of wine in the dataset, as evidenced by the structure of the tree, where several nodes have a Gini impurity of zero. The decision tree representation demonstrates how interpretable the model is, which makes it easier to comprehend the categorization rules and choices.\n",
    "\n",
    "To summarize up, the Decision Tree is a good option for the Wine dataset's classification problem because it offers excellent accuracy and interpretability. It is advisable to carry out further validation procedures and contemplate comparing with alternative models in order to guarantee resilience and perhaps enhance prediction efficacy."
   ]
  },
  {
   "cell_type": "markdown",
   "id": "b8fe7841",
   "metadata": {},
   "source": [
    "# "
   ]
  },
  {
   "cell_type": "markdown",
   "id": "fab7ea99",
   "metadata": {},
   "source": [
    "# Comparison of different algorithms on a dataset "
   ]
  },
  {
   "cell_type": "markdown",
   "id": "e78e1945",
   "metadata": {},
   "source": [
    "## k-Nearest Neighbors (kNN) vs Decision Tree"
   ]
  },
  {
   "cell_type": "markdown",
   "id": "24b9b468",
   "metadata": {},
   "source": [
    "### Methodology: "
   ]
  },
  {
   "cell_type": "markdown",
   "id": "edb11d33",
   "metadata": {},
   "source": [
    "<b>k-Nearest Neighbors (kNN) Algorithm:\n",
    "\n",
    "The simplicity and effectiveness of the kNN algorithm in solving classification issues led to its selection. Because it is non-parametric, it is flexible and reliable for use with a wide range of datasets because it does not make any underlying assumptions about the data's distribution. The k nearest data points to a query point are found using kNN, and the most common label among these neighbours is designated as the prediction. The selection of k, or the number of neighbours taken into account, has a significant impact on the performance of kNN. While a greater k can smooth out the decision limits and possibly cause underfitting, a smaller k can make the model more susceptible to noise and cause overfitting. \n",
    "In our analysis, different values of k were explored to determine the optimal balance for the Wine dataset, which provided a nuanced understanding of the model's behavior and sensitivity to the parameter k."
   ]
  },
  {
   "cell_type": "markdown",
   "id": "1588fe1f",
   "metadata": {},
   "source": [
    "<b>Decision Tree Algorithm:\n",
    "\n",
    "The Decision Tree, whose nodes each represent a feature condition that separates the data and produces the most homogenous branches possible, was chosen as the preferred model for decision-making procedures because of its intuitiveness. Because it creates a hierarchical structure of decisions, it is simple to comprehend and use. One important factor influencing how much detail the model captures is the tree's depth. Although a deeper tree runs the danger of overfitting by becoming overly tailored to the training set, it can also capture more intricate patterns. On the other hand, a shallow tree may underfit due to its inability to acquire enough data. A tree depth of five was first selected for our dataset in order to balance the danger of overfitting with the complexity of the model.This decision was empirically validated by observing the model's performance metrics, such as accuracy, and understanding the feature importance at each split in the tree, highlighting the tree's ability to utilize the predictive power of the features effectively."
   ]
  },
  {
   "cell_type": "markdown",
   "id": "6d1b7cbf",
   "metadata": {},
   "source": [
    "# "
   ]
  },
  {
   "cell_type": "markdown",
   "id": "45249344",
   "metadata": {},
   "source": [
    "###  Comparative Analysis:"
   ]
  },
  {
   "cell_type": "markdown",
   "id": "11b3d408",
   "metadata": {},
   "source": [
    "#### Accuracy:"
   ]
  },
  {
   "cell_type": "markdown",
   "id": "87f02107",
   "metadata": {},
   "source": [
    "At 96.30% accuracy on the test set, the Decision Tree method proved to be robust in its performance for the wine categorization problem. By contrast, the k-Nearest Neighbors (kNN) algorithm also demonstrated excellent performance, with the highest accuracy seen at a particular value of k. Based on the previous trials, the precise accuracy of kNN would be declared here. The difference in precision between the two models can be attributed to their unique approaches to the classification task: Decision Trees employ learnt hierarchical rules to make decisions, whereas kNN depends on the closeness of surrounding data points."
   ]
  },
  {
   "cell_type": "markdown",
   "id": "f21a98d9",
   "metadata": {},
   "source": [
    "#### Model Complexity:"
   ]
  },
  {
   "cell_type": "markdown",
   "id": "5f76168f",
   "metadata": {},
   "source": [
    "The fundamental complexity of the kNN algorithm arises from the dimensionality of the dataset and the selection of k. The technique itself is straightforward. On the other hand, when the depth of the Decision Tree increases, it may become overfitting. The model's capacity to generalize to new data is impacted by its intricacy. A shallower tree might not completely represent the underlying data structure, whereas a deeper tree might catch noise. Thus, keeping a balance between underfitting and overfitting requires careful management of the depth."
   ]
  },
  {
   "cell_type": "markdown",
   "id": "91543dff",
   "metadata": {},
   "source": [
    "#### Interpretability:"
   ]
  },
  {
   "cell_type": "markdown",
   "id": "d16cc3a8",
   "metadata": {},
   "source": [
    "Decision trees are highly interpretable because it is simple to understand and map each decision node and branch to a logical rule. This facilitates transparency and elucidation of the model's decisions. However, as the number of dimensions rises, kNN's interpretability becomes increasingly abstract. Less logical than the straightforward guidelines of a Decision Tree, comprehending the categorization decisions made by kNN necessitates taking into account the relative distances in a multi-dimensional space."
   ]
  },
  {
   "cell_type": "markdown",
   "id": "32871c5f",
   "metadata": {},
   "source": [
    "#### Feature Importance:"
   ]
  },
  {
   "cell_type": "markdown",
   "id": "bbf763eb",
   "metadata": {},
   "source": [
    "Using decision trees, the tree's structure clearly defines the value of each feature. Higher up the tree, the traits that result in the greatest information gain are employed. Features such as 'Flavanoids' and 'Proline' have been shown to be significant for classification in the Wine dataset. Because feature values vary and affect the closeness of data points, feature importance in kNN is more implicit. Despite the fact that kNN cannot directly quantify the importance of a feature, dimensionality reduction or sensitivity analysis methods can reveal which features kNN responds to the most."
   ]
  },
  {
   "cell_type": "markdown",
   "id": "962a2140",
   "metadata": {},
   "source": [
    "### Conclusion"
   ]
  },
  {
   "cell_type": "markdown",
   "id": "8d3f4120",
   "metadata": {},
   "source": [
    "<b>The Decision Tree</b> and <b>kNN classifiers</b> have shown to be effective for the wine classification task, despite the fact that each classifier has pros and cons. Due to its exceptional accuracy and interpretability, the Decision Tree paradigm is attractive, especially when decision-making transparency is required. While this is going on, kNN offers a simpler yet effective approach that may work better in many scenarios, particularly when the model must be flexible enough to capture complex, non-linear interactions without running the risk of overfitting associated with a deep Decision Tree.\n",
    "\n"
   ]
  },
  {
   "cell_type": "markdown",
   "id": "2dcb8c73",
   "metadata": {},
   "source": [
    "# "
   ]
  },
  {
   "cell_type": "markdown",
   "id": "4a50df30",
   "metadata": {},
   "source": [
    "### Abstract"
   ]
  },
  {
   "cell_type": "markdown",
   "id": "ee7fae78",
   "metadata": {},
   "source": [
    "This project explores the application of k-Nearest Neighbors (kNN) and Decision Trees to classify instances of wine into one of three possible classes based on chemical analysis results. Utilizing the Wine recognition dataset from the UCI Machine Learning Repository, which comprises 178 instances each with 13 chemical constituents as features, we sought to determine the most effective machine learning algorithm for predicting wine cultivators in the region of Italy. After preprocessing the data and selecting a subset of features based on their chemical significance to wine quality — specifically Flavanoids and Proline due to their impact on color, astringency, and bitterness of wine, as well as correlation with wine quality — we implemented kNN from scratch and Decision Trees using the sklearn library. \n",
    "\n",
    "The purpose of our experiments was to optimize the Decision Tree's depth and the k parameter in kNN. The Decision Tree obtained an accuracy of 96.30%, while the kNN method, with a k value of k = 19, achieved 92.13%. The results imply that the Decision Tree approach performed admirably for the wine categorization task, offering information about the applicability of these algorithms for classification issues in the wine sector. This comparative analysis lays the groundwork for future research that may investigate more feature subsets, different classifiers, or a larger sample size of wine. It also advances our understanding of the application of machine learning techniques in the realm of oenology.\n",
    "\n"
   ]
  },
  {
   "cell_type": "markdown",
   "id": "220aa067",
   "metadata": {},
   "source": [
    "# "
   ]
  },
  {
   "cell_type": "markdown",
   "id": "dfc84726",
   "metadata": {},
   "source": [
    "## Introduction "
   ]
  },
  {
   "cell_type": "markdown",
   "id": "ef637c83",
   "metadata": {},
   "source": [
    "One unique area where science and business are coming together is in the field of oenology (the study of wines), where Machine Learning (ML) is being used to classify wines according to their chemical qualities. This project uses machine learning (ML) algorithms to classify wines from the Wine recognition dataset, a well-respected multiclass classification challenge in the machine learning community. This adds to this small but expanding field of research.\n",
    "\n",
    "The collection includes 178 wine samples examined for 13 different chemical components, each of which indicates the cultivar of the wine. The dataset is a great fit for machine learning applications due to its balance and applicability to real-world situations, but its tiny size and high dimensionality present concerns like overfitting and the curse of dimensionality. These factors highlight how important it is to choose and fine-tune algorithms carefully."
   ]
  },
  {
   "cell_type": "markdown",
   "id": "ecadefb0",
   "metadata": {},
   "source": [
    "# "
   ]
  },
  {
   "cell_type": "markdown",
   "id": "05348161",
   "metadata": {},
   "source": [
    "## Background"
   ]
  },
  {
   "cell_type": "markdown",
   "id": "fc0497ab",
   "metadata": {},
   "source": [
    "#### k-Nearest Neighbors (kNN)\n",
    "\n",
    "This simple yet efficient non-parametric method is utilized for regression and classification. When it comes to wine classification, kNN functions by determining which 'k' samples from the training dataset are most similar to the chemical profile of an unidentified wine. Next, the neighbors vote to classify the unknown wine, and a majority vote places it in the most common class among them. The simplicity of kNN and its intuitive presumption that similar objects reside nearby are crucial to its efficacy. Its performance is, however, very dependent on the distance metric and the choice of 'k'. Too small a 'k' can lead to overfitting to noise in the data, while too large a 'k' might include points from other classes, leading to underfitting."
   ]
  },
  {
   "cell_type": "markdown",
   "id": "3671bca4",
   "metadata": {},
   "source": [
    "#### Decision Trees\n",
    "\n",
    "Decision Trees are a type of tree structure that resembles a flowchart, with each leaf node representing the result, the branch representing a decision rule, and the internal node representing a feature or attribute. The binary recursive partitioning technique, which divides the data into subgroups according to the value of the most discriminative qualities, is used to build the tree in the wine classification scenario. At every node, a choice is made with the intention of lowering the entropy (or raising the purity) of the classes that make up the final subsets. Because the structure of a decision tree can be seen and understood as a sequence of decisions, decision trees are widely used because they are interpretable.\n"
   ]
  },
  {
   "cell_type": "markdown",
   "id": "20e3afda",
   "metadata": {},
   "source": [
    "Each algorithm has advantages and disadvantages, and they work best with different kinds of data and issues. Their comparative performance in the context of wine classification might offer important insights regarding the structure of the dataset and the applicability of these techniques for such tasks."
   ]
  },
  {
   "cell_type": "markdown",
   "id": "79a6b2f4",
   "metadata": {},
   "source": [
    "# "
   ]
  },
  {
   "cell_type": "markdown",
   "id": "a5e5740a",
   "metadata": {},
   "source": [
    "## Methodology"
   ]
  },
  {
   "cell_type": "markdown",
   "id": "2ef20ea4",
   "metadata": {},
   "source": [
    "###  Data Preprocessing"
   ]
  },
  {
   "cell_type": "markdown",
   "id": "63f9d9c8",
   "metadata": {},
   "source": [
    "<b>Normalization:</b> To put the features on a similar scale, they were normalized. This is important since kNN depends on distance computations, and it makes sure that no single feature's scale dominates the distance metric."
   ]
  },
  {
   "cell_type": "markdown",
   "id": "10165d82",
   "metadata": {},
   "source": [
    "<b>Feature Selection</b>\n",
    "Selecting which data qualities to employ in order to best anticipate the outcome is known as feature selection. Based on their established impact on wine quality, characteristics like proline and flavanoids are chosen for wine categorization. Reducing noise and concentrating on the most pertinent data might enhance model performance through feature selection that is effective.\n"
   ]
  },
  {
   "cell_type": "markdown",
   "id": "55975002",
   "metadata": {},
   "source": [
    "#### Reason To Choose these Subsets for kNN\n",
    "\n",
    "<b>Flavanoids:</b>Flavanoids are a naturally occurring class of polyphenol that can be found in grapes. The wine's color, astringency, and bitterness are all influenced by flavanoids. The values show how much of these substances are present in each sample of wine, which affects the wine's overall flavor and quality.\n",
    "\n",
    "\n",
    "<b>Proline:</b>An amino acid that wines and grapevines naturally contain. Higher-quality wines are frequently linked to elevated proline levels. The proline concentration in each wine sample is shown by the values given.\n",
    "\n",
    "These features not only offer valuable insights into wine quality but also might show distinct patterns for different classes in the dataset, making them suitable for a kNN analysis."
   ]
  },
  {
   "cell_type": "markdown",
   "id": "8db38213",
   "metadata": {},
   "source": [
    "#### Reason To Choose these Subsets for Decision Tree\n",
    "\n",
    "<b>Alcohol:</b> Alcohol content is a fundamental characteristic of wine that affects both its taste and the perception of other flavors and aromas. It can also be an indicator of the ripeness of grapes at harvest, with higher sugar content typically leading to higher alcohol levels after fermentation.\n",
    "\n",
    "<b>Malic acid:</b> During fermentation, this organic acid, which is found in grape must (unfermented grape juice), becomes less potent. Wine's flavor can be influenced by its malic acid content, which increases the wine's acidity. Moreover, it plays a crucial role in the metabolic process called malolactic fermentation, which modifies the wine's ultimate flavor character.\n",
    "\n",
    "<b>Total Phenols:</b> Wine's phenolic compounds are a variety of chemicals that influence the texture, color, and flavor. One class of phenol that adds to the wine's structure and astringency is tannins. The wine's antioxidant qualities may be correlated with its total phenol content, which can indicate the wine's potential for ageing.\n",
    "\n",
    "<b>Flavanoids:</b> As previously indicated, flavonoids are polyphenolic substances that significantly influence wine's texture and color. Their antioxidant properties also link them to the health advantages of wine intake.\n",
    "\n",
    "<b>Color Intensity:</b> A wine's color intensity can reveal information about a number of things, such as the grape variety, age, and winemaking technique. Red wines are frequently associated with deeper, more intense colors, which may indicate a larger concentration of specific phenolic chemicals, such as anthocyanins.\n",
    "\n",
    "<b>Proline:</b> This amino acid is frequently present in higher amounts in premium wines and can serve as a marker for the provenance of the wine due to the influence of both the grape variety and the geographical location on its concentration. Proline has a function in the creation of proteins, but it also affects the flavor of wine.\n",
    "\n",
    "By taking all of these factors into account, the analysis can offer a comprehensive perspective on the wine's qualities, which could result in more precise classification models. A robust model can be created using the kNN analysis or any other machine learning technique since each feature captures a distinct component of the wine's quality, composition, and production process.\n",
    "\n"
   ]
  },
  {
   "cell_type": "markdown",
   "id": "0da6f72e",
   "metadata": {},
   "source": [
    "# "
   ]
  },
  {
   "cell_type": "markdown",
   "id": "13a7f3ee",
   "metadata": {},
   "source": [
    "## Cross-Validation"
   ]
  },
  {
   "cell_type": "markdown",
   "id": "addb5df2",
   "metadata": {},
   "source": [
    "Using the K-Fold Cross-Validation approach, the dataset is divided into 'k' subgroups. To ensure that each subset acts as the validation set once, the model is trained on 'k-1' subsets and validated on the remaining ones. Compared to a single split, this method guarantees that all data contributes to both training and validation, yielding a more reliable performance estimate—especially when dealing with sparse data."
   ]
  },
  {
   "cell_type": "markdown",
   "id": "5854533e",
   "metadata": {},
   "source": [
    "# "
   ]
  },
  {
   "cell_type": "markdown",
   "id": "c92184ae",
   "metadata": {},
   "source": [
    "## Parameter Tuning and Model Evaluation"
   ]
  },
  {
   "cell_type": "markdown",
   "id": "9e7e3ec4",
   "metadata": {},
   "source": [
    "This project's tuning and assessment of the k-Nearest Neighbors (kNN) algorithm to determine the ideal number of neighbors ('k') for categorizing the Wine dataset was a crucial component."
   ]
  },
  {
   "cell_type": "markdown",
   "id": "629e7c86",
   "metadata": {},
   "source": [
    "<b>kNN Parameter Tuning:</b> A range of 'k' values were extensively evaluated using the kNN model in order to determine which one offered the optimum balance between accuracy and complexity. It was discovered that a 'k' value of 19 was ideal after testing and validation were done repeatedly with an initial 'k' of 8. It was discovered that this value greatly improved the model's capacity to correctly and broadly categorize the wine samples.\n",
    "\n"
   ]
  },
  {
   "cell_type": "markdown",
   "id": "cf1742a6",
   "metadata": {},
   "source": [
    "<b>Model Evaluation using Cross-Validation:</b> K-fold cross-validation was used to make sure the model was reliable and robust. The cross-validation scores for 'k' = 8 ranged from 0.50 to 0.82, with an approximate mean accuracy of 0.6699 and a standard deviation of 0.09. This variation demonstrated the model's sensitivity to various data subsets and the necessity for additional optimization. After adjusting the 'k' value to 19, the cross-validation scores showed an improvement, ranging from 0.61 to 0.83 with a mean accuracy of approximately 0.7144 and the same standard deviation of 0.09. Not only did the model perform better, but it also got more reliable at various data folds.\n"
   ]
  },
  {
   "cell_type": "markdown",
   "id": "f22c66f1",
   "metadata": {},
   "source": [
    "<b>Performance and Optimal k:</b> Classification accuracy improved significantly with an astounding 92.13% attained when the ideal 'k' of 19 was used. This accuracy shows how well the model was able to generalize from the training data to new examples while still capturing the underlying patterns in the wine data.\n",
    "\n"
   ]
  },
  {
   "cell_type": "markdown",
   "id": "635df446",
   "metadata": {},
   "source": [
    "The kNN classifier was refined to produce accurate and perceptive predictions by using this methodical approach to parameter tuning and model evaluation, proving its appropriateness and efficacy for the given wine classification problem."
   ]
  },
  {
   "cell_type": "markdown",
   "id": "e5e82f4f",
   "metadata": {},
   "source": [
    "# "
   ]
  },
  {
   "cell_type": "markdown",
   "id": "9dd8c32d",
   "metadata": {},
   "source": [
    "## Validation and Performance Metrics"
   ]
  },
  {
   "cell_type": "markdown",
   "id": "a0d6ecf4",
   "metadata": {},
   "source": [
    "Many indicators were used, each providing a different perspective on the predictive power of the modified k-Nearest Neighbors (kNN) and Decision Trees models, in order to fully assess their performance."
   ]
  },
  {
   "cell_type": "markdown",
   "id": "3963f183",
   "metadata": {},
   "source": [
    "#### k-Nearest Neighbors (kNN)"
   ]
  },
  {
   "cell_type": "markdown",
   "id": "35eb73f5",
   "metadata": {},
   "source": [
    "<b>Accuracy:</b> This measure, which shows the percentage of accurate forecasts among all predictions, served as the main barometer for assessing the overall performance of the model. 92.13% accuracy was attained for the kNN model with 'k' = 19, demonstrating a high degree of classification precision. It's crucial to remember that, although while accuracy is commonly used and intuitive, it could not always give a clear picture, particularly in imbalanced datasets with skewed class distribution."
   ]
  },
  {
   "cell_type": "markdown",
   "id": "95174696",
   "metadata": {},
   "source": [
    "<b>Cross-Validation for kNN:</b> Using k-fold cross-validation, the effectiveness of the kNN model was assessed for different data subsets. We obtained the following cross-validation scores: [0.6667, 0.8333, 0.6111, 0.6111, 0.7222, 0.8333, 0.6667, 0.7647, 0.8235]. These scores give a more complete picture of the model's predictive skills by showing how its performance changed with different dataset splits. The scores, which varied from roughly 0.61 to 0.83, showed how the model performed differently at various folds.\n"
   ]
  },
  {
   "cell_type": "markdown",
   "id": "c9ce632b",
   "metadata": {},
   "source": [
    "<b>Mean Accuracy and Standard Deviation:</b> Based on these cross-validation scores, the mean accuracy is roughly 0.7144, while the standard deviation is roughly 0.09. The standard deviation provides insight into the model's performance variability, while the mean shows the correctness of the model's central tendency across all folds. Performance across various data subsets would be more consistent if the standard deviation was lower.\n"
   ]
  },
  {
   "cell_type": "markdown",
   "id": "8f820b47",
   "metadata": {},
   "source": [
    "#### Decision Tree"
   ]
  },
  {
   "cell_type": "markdown",
   "id": "9b38146c",
   "metadata": {},
   "source": [
    "<b>Accuracy:</b> On the test set, the Decision Tree model demonstrated an amazing accuracy of 96.30%. This high degree of accuracy suggests that the model does a very good job of appropriately categorizing the wines into the appropriate varieties. Though this high accuracy is encouraging, additional measures must also be taken into account to guarantee the robustness and dependability of the model.\n"
   ]
  },
  {
   "cell_type": "markdown",
   "id": "95165c62",
   "metadata": {},
   "source": [
    "<b>Decision Tree Cross-Validation:</b> A k-fold cross-validation was performed on the model, producing the following scores for each fold: [0.8889, 0.8889, 0.8333, 0.8889, 0.8333, 0.9444, 1.0000, 0.9444, 1.0000, 0.7647]. These scores provide a thorough understanding of the model's performance throughout the dataset by representing the model's accuracy on various data segments.\n"
   ]
  },
  {
   "cell_type": "markdown",
   "id": "8c8d1687",
   "metadata": {},
   "source": [
    "<b>Mean Accuracy and Standard Deviation:</b> These cross-validation scores have an average mean of 0.90, meaning that the model predicts the wine class 90% of the time accurately across the various folds. The standard deviation, which is 0.07, illustrates how the accuracy of the model varies among folds. Here, a lower standard deviation denotes a more stable performance of the model, one less susceptible to the particular subsets of training data.\n"
   ]
  },
  {
   "cell_type": "markdown",
   "id": "43b8ce3a",
   "metadata": {},
   "source": [
    "# "
   ]
  },
  {
   "cell_type": "markdown",
   "id": "c2d82a3d",
   "metadata": {},
   "source": [
    "## Result"
   ]
  },
  {
   "cell_type": "code",
   "execution_count": 38,
   "id": "7e7dd0a2",
   "metadata": {},
   "outputs": [
    {
     "data": {
      "text/html": [
       "<style type=\"text/css\">\n",
       "</style>\n",
       "<table id=\"T_02d82\" style='display:inline'>\n",
       "  <caption>kNN Model Performance Metrics</caption>\n",
       "  <thead>\n",
       "    <tr>\n",
       "      <th class=\"blank level0\" >&nbsp;</th>\n",
       "      <th id=\"T_02d82_level0_col0\" class=\"col_heading level0 col0\" >Metric</th>\n",
       "      <th id=\"T_02d82_level0_col1\" class=\"col_heading level0 col1\" >Value</th>\n",
       "    </tr>\n",
       "  </thead>\n",
       "  <tbody>\n",
       "    <tr>\n",
       "      <th id=\"T_02d82_level0_row0\" class=\"row_heading level0 row0\" >0</th>\n",
       "      <td id=\"T_02d82_row0_col0\" class=\"data row0 col0\" >Optimal 'k' Value</td>\n",
       "      <td id=\"T_02d82_row0_col1\" class=\"data row0 col1\" >19</td>\n",
       "    </tr>\n",
       "    <tr>\n",
       "      <th id=\"T_02d82_level0_row1\" class=\"row_heading level0 row1\" >1</th>\n",
       "      <td id=\"T_02d82_row1_col0\" class=\"data row1 col0\" >Cross-Validation Accuracy Range</td>\n",
       "      <td id=\"T_02d82_row1_col1\" class=\"data row1 col1\" >0.61 - 0.83</td>\n",
       "    </tr>\n",
       "    <tr>\n",
       "      <th id=\"T_02d82_level0_row2\" class=\"row_heading level0 row2\" >2</th>\n",
       "      <td id=\"T_02d82_row2_col0\" class=\"data row2 col0\" >Mean Accuracy</td>\n",
       "      <td id=\"T_02d82_row2_col1\" class=\"data row2 col1\" >0.7144</td>\n",
       "    </tr>\n",
       "    <tr>\n",
       "      <th id=\"T_02d82_level0_row3\" class=\"row_heading level0 row3\" >3</th>\n",
       "      <td id=\"T_02d82_row3_col0\" class=\"data row3 col0\" >Standard Deviation</td>\n",
       "      <td id=\"T_02d82_row3_col1\" class=\"data row3 col1\" >0.09</td>\n",
       "    </tr>\n",
       "    <tr>\n",
       "      <th id=\"T_02d82_level0_row4\" class=\"row_heading level0 row4\" >4</th>\n",
       "      <td id=\"T_02d82_row4_col0\" class=\"data row4 col0\" >Test Set Accuracy</td>\n",
       "      <td id=\"T_02d82_row4_col1\" class=\"data row4 col1\" >96.30%</td>\n",
       "    </tr>\n",
       "    <tr>\n",
       "      <th id=\"T_02d82_level0_row5\" class=\"row_heading level0 row5\" >5</th>\n",
       "      <td id=\"T_02d82_row5_col0\" class=\"data row5 col0\" >Precision</td>\n",
       "      <td id=\"T_02d82_row5_col1\" class=\"data row5 col1\" >96.38%</td>\n",
       "    </tr>\n",
       "    <tr>\n",
       "      <th id=\"T_02d82_level0_row6\" class=\"row_heading level0 row6\" >6</th>\n",
       "      <td id=\"T_02d82_row6_col0\" class=\"data row6 col0\" >Recall</td>\n",
       "      <td id=\"T_02d82_row6_col1\" class=\"data row6 col1\" >96.30%</td>\n",
       "    </tr>\n",
       "    <tr>\n",
       "      <th id=\"T_02d82_level0_row7\" class=\"row_heading level0 row7\" >7</th>\n",
       "      <td id=\"T_02d82_row7_col0\" class=\"data row7 col0\" >F1 Score</td>\n",
       "      <td id=\"T_02d82_row7_col1\" class=\"data row7 col1\" >96.28%</td>\n",
       "    </tr>\n",
       "  </tbody>\n",
       "</table>\n"
      ],
      "text/plain": [
       "<pandas.io.formats.style.Styler at 0x1cf0bc40a60>"
      ]
     },
     "execution_count": 38,
     "metadata": {},
     "output_type": "execute_result"
    }
   ],
   "source": [
    "#kNN Model Performance\n",
    "data = {\n",
    "    'Metric': [\n",
    "        \"Optimal 'k' Value\",\n",
    "        'Cross-Validation Accuracy Range',\n",
    "        'Mean Accuracy',\n",
    "        'Standard Deviation',\n",
    "        'Test Set Accuracy',\n",
    "        'Precision',\n",
    "        'Recall',\n",
    "        'F1 Score'\n",
    "    ],\n",
    "    'Value': [\n",
    "        19, \n",
    "        '0.61 - 0.83',  \n",
    "        '0.7144', \n",
    "        '0.09',  \n",
    "        '96.30%',  \n",
    "        '96.38%', \n",
    "        '96.30%', \n",
    "        '96.28%'  \n",
    "    ]\n",
    "}\n",
    "\n",
    "# Create a DataFrame\n",
    "metrics_df = pd.DataFrame(data)\n",
    "# Give the DataFrame a title by setting the table caption\n",
    "styled_df = metrics_df.style.set_table_attributes(\"style='display:inline'\").set_caption('kNN Model Performance Metrics')\n",
    "styled_df"
   ]
  },
  {
   "cell_type": "markdown",
   "id": "4b564bba",
   "metadata": {},
   "source": [
    "For the kNN model, an optimal 'k' value of 19 was found to be the most effective. The cross-validation accuracy ranged from 0.61 to 0.83, indicating variability in the model's performance across different subsets of the data. Despite this variability, the kNN model achieved a test set accuracy and other performance metrics that are surprisingly on par with the Decision Tree model."
   ]
  },
  {
   "cell_type": "code",
   "execution_count": 40,
   "id": "26d5202a",
   "metadata": {},
   "outputs": [
    {
     "data": {
      "text/html": [
       "<style type=\"text/css\">\n",
       "</style>\n",
       "<table id=\"T_d75c8\" style='display:inline'>\n",
       "  <caption>Decison Tree Model Performance Metrics</caption>\n",
       "  <thead>\n",
       "    <tr>\n",
       "      <th class=\"blank level0\" >&nbsp;</th>\n",
       "      <th id=\"T_d75c8_level0_col0\" class=\"col_heading level0 col0\" >Metric</th>\n",
       "      <th id=\"T_d75c8_level0_col1\" class=\"col_heading level0 col1\" >Value</th>\n",
       "    </tr>\n",
       "  </thead>\n",
       "  <tbody>\n",
       "    <tr>\n",
       "      <th id=\"T_d75c8_level0_row0\" class=\"row_heading level0 row0\" >0</th>\n",
       "      <td id=\"T_d75c8_row0_col0\" class=\"data row0 col0\" >Cross-Validation Accuracy Range</td>\n",
       "      <td id=\"T_d75c8_row0_col1\" class=\"data row0 col1\" >0.76 - 0.94</td>\n",
       "    </tr>\n",
       "    <tr>\n",
       "      <th id=\"T_d75c8_level0_row1\" class=\"row_heading level0 row1\" >1</th>\n",
       "      <td id=\"T_d75c8_row1_col0\" class=\"data row1 col0\" >Mean Accuracy</td>\n",
       "      <td id=\"T_d75c8_row1_col1\" class=\"data row1 col1\" >0.90</td>\n",
       "    </tr>\n",
       "    <tr>\n",
       "      <th id=\"T_d75c8_level0_row2\" class=\"row_heading level0 row2\" >2</th>\n",
       "      <td id=\"T_d75c8_row2_col0\" class=\"data row2 col0\" >Standard Deviation</td>\n",
       "      <td id=\"T_d75c8_row2_col1\" class=\"data row2 col1\" >0.07</td>\n",
       "    </tr>\n",
       "    <tr>\n",
       "      <th id=\"T_d75c8_level0_row3\" class=\"row_heading level0 row3\" >3</th>\n",
       "      <td id=\"T_d75c8_row3_col0\" class=\"data row3 col0\" >Test Set Accuracy</td>\n",
       "      <td id=\"T_d75c8_row3_col1\" class=\"data row3 col1\" >96.30%</td>\n",
       "    </tr>\n",
       "    <tr>\n",
       "      <th id=\"T_d75c8_level0_row4\" class=\"row_heading level0 row4\" >4</th>\n",
       "      <td id=\"T_d75c8_row4_col0\" class=\"data row4 col0\" >Precision</td>\n",
       "      <td id=\"T_d75c8_row4_col1\" class=\"data row4 col1\" >96.38%</td>\n",
       "    </tr>\n",
       "    <tr>\n",
       "      <th id=\"T_d75c8_level0_row5\" class=\"row_heading level0 row5\" >5</th>\n",
       "      <td id=\"T_d75c8_row5_col0\" class=\"data row5 col0\" >Recall</td>\n",
       "      <td id=\"T_d75c8_row5_col1\" class=\"data row5 col1\" >96.30%</td>\n",
       "    </tr>\n",
       "    <tr>\n",
       "      <th id=\"T_d75c8_level0_row6\" class=\"row_heading level0 row6\" >6</th>\n",
       "      <td id=\"T_d75c8_row6_col0\" class=\"data row6 col0\" >F1 Score</td>\n",
       "      <td id=\"T_d75c8_row6_col1\" class=\"data row6 col1\" >96.28%</td>\n",
       "    </tr>\n",
       "  </tbody>\n",
       "</table>\n"
      ],
      "text/plain": [
       "<pandas.io.formats.style.Styler at 0x1cf0bae2460>"
      ]
     },
     "execution_count": 40,
     "metadata": {},
     "output_type": "execute_result"
    }
   ],
   "source": [
    "#Decison Tree Model Performance\n",
    "data = {\n",
    "    'Metric': [\n",
    "        'Cross-Validation Accuracy Range',\n",
    "        'Mean Accuracy',\n",
    "        'Standard Deviation',a\n",
    "        'Test Set Accuracy',\n",
    "        'Precision',\n",
    "        'Recall',\n",
    "        'F1 Score'\n",
    "    ],\n",
    "    'Value': [\n",
    "        '0.76 - 0.94',  \n",
    "        '0.90', \n",
    "        '0.07',  \n",
    "        '96.30%',  \n",
    "        '96.38%', \n",
    "        '96.30%', \n",
    "        '96.28%'  \n",
    "    ]\n",
    "}\n",
    "\n",
    "# Create a DataFrame\n",
    "metrics_df = pd.DataFrame(data)\n",
    "# Give the DataFrame a title by setting the table caption\n",
    "styled_df = metrics_df.style.set_table_attributes(\"style='display:inline'\").set_caption('Decison Tree Model Performance Metrics')\n",
    "styled_df"
   ]
  },
  {
   "cell_type": "markdown",
   "id": "d7005be3",
   "metadata": {},
   "source": [
    "The Decision Tree model exhibits high consistency and predictive accuracy, with a mean cross-validation accuracy of 0.90 and a narrow accuracy range from 0.76 to 0.94. The model demonstrates outstanding performance on the test set, with all metrics—accuracy, precision, recall, and F1 score—exceeding 96%."
   ]
  },
  {
   "cell_type": "markdown",
   "id": "e2d7190a",
   "metadata": {},
   "source": [
    "<b>Analysis:</b>\n",
    "In spite of the kNN model's lower mean accuracy in cross-validation, it is noteworthy that both models attained comparable high performance metrics on the test set. This may imply that the kNN model can equal the predictive ability of more sophisticated models like Decision Trees when the proper parameter settings are applied. The resilience of the Decision Tree is also demonstrated by the consistency of its cross-validation accuracy. To ensure a fair comparison and to understand the cause behind the identical scores, a deeper examination of the dataset's properties, the models' parameter settings, and the evaluation techniques may be necessary given the similarity in test set performance metrics for both models. "
   ]
  },
  {
   "cell_type": "markdown",
   "id": "61dda1b2",
   "metadata": {},
   "source": [
    "# "
   ]
  },
  {
   "cell_type": "markdown",
   "id": "b9d92e2c",
   "metadata": {},
   "source": [
    "## Evaluation"
   ]
  },
  {
   "cell_type": "markdown",
   "id": "05f7a437",
   "metadata": {},
   "source": [
    "#### Strength\n",
    "<b>Structured Methodology:</b> The models were developed and assessed in a methodical manner thanks to the step-by-step process that included preprocessing, parameter tuning, and cross-validation. This meticulous procedure was essential to guaranteeing the validity and dependability of the findings.\n",
    "\n",
    "<b>Diverse Model Comparison:</b> By selecting both Decision Trees and kNN, a comparative analysis was possible, which gave rise to a more nuanced knowledge of the performance of various algorithms in comparable scenarios.\n",
    "\n",
    "<b>Insightful Parameter Tuning:</b> By adjusting the 'k' value in kNN and the depth in Decision Trees, one could gain practical knowledge about how susceptible models are to their hyperparameters, which is essential for practical use.\n"
   ]
  },
  {
   "cell_type": "markdown",
   "id": "243b3e20",
   "metadata": {},
   "source": [
    "### Weakness\n",
    "\n",
    "<b>Feature Selection Limitations:</b> Although the features included were determined by domain expertise, a more thorough or automated feature selection procedure may have produced new insights or enhanced model performance.\n",
    "\n",
    "<b>Depth of Evaluation:</b> While recall, accuracy, precision, and F1 score are all-inclusive measures of model performance, adding extra metrics or evaluation methods—especially ones that are customized to the particular difficulties presented by the dataset—could yield a more complete picture of the models.\n",
    "\n",
    "<b>Handling of Complexities: </b> Although the approach's simplicity helped with clarity and comprehension, it may have oversimplified the complexity involved in wine classification, possibly missing more nuanced patterns that more sophisticated models or methodologies could have picked up on.\n"
   ]
  },
  {
   "cell_type": "markdown",
   "id": "3c8bb141",
   "metadata": {},
   "source": [
    "# "
   ]
  },
  {
   "cell_type": "markdown",
   "id": "fe254f29",
   "metadata": {},
   "source": [
    "## Conclusions"
   ]
  },
  {
   "cell_type": "markdown",
   "id": "cb727d88",
   "metadata": {},
   "source": [
    "The objective of this project was to identify wines according to their chemical makeup by applying and contrasting Decision Trees with k-Nearest Neighbors (kNN). The results clearly demonstrate the capabilities of each model and offer information on how to use them for categorization jobs."
   ]
  },
  {
   "cell_type": "markdown",
   "id": "69266491",
   "metadata": {},
   "source": [
    "<b>kNN and Decision Tree Performance:</b> Both models had great accuracy, however the Decision Tree displayed marginally more consistency. For both kNN and Decision Tree, the ideal 'k' and controlled depth were essential to their effectiveness.\n",
    "\n",
    "<b>Comparative Analysis:</b> Decision Trees provided consistency but had a possible overfitting risk, whereas kNN showed simplicity and interpretability but varied in performance.\n",
    "\n",
    "<b>Evaluation Metrics:</b> F1 scores, precision, and recall demonstrated that both models were more reliable than just accurate.\n"
   ]
  },
  {
   "cell_type": "markdown",
   "id": "41879e07",
   "metadata": {},
   "source": [
    "<b>Relation to Aim:</b> \n",
    "By illustrating efficient wine classification and offering insights into the advantages and disadvantages of each model, the initiative achieved its goal. Investigating how several algorithms perform on the same dataset is in line with the goal of having a comprehensive understanding of parameter influences and model behavior."
   ]
  },
  {
   "cell_type": "markdown",
   "id": "3ccdf571",
   "metadata": {},
   "source": [
    "<b>Conclusion:</b>\n",
    "To sum up, the project improved knowledge of the dynamics of kNN and Decision Tree performance in addition to finding efficient classifiers for the Wine dataset. These findings highlight the significance of model design, tuning, and thorough evaluation and add to our understanding of machine learning applications in categorization problems.\n"
   ]
  },
  {
   "cell_type": "markdown",
   "id": "b2f868fe",
   "metadata": {},
   "source": [
    "# "
   ]
  },
  {
   "cell_type": "markdown",
   "id": "632e6daa",
   "metadata": {},
   "source": [
    "## References:\n",
    "* UCI Machine Learning Repository. (n.d.). https://www.archive.ics.uci.edu/dataset/109/wine\n",
    "* Wine Classification - MATLAB & Simulink example. (n.d.). https://www.mathworks.com/help/deeplearning/ug/wine-classification.html\n",
    "* GeeksforGeeks. (2023, November 9). K Nearest neighbor KNN algorithm. https://www.geeksforgeeks.org/k-nearest-neighbours/?ref=lbp\n",
    "* GeeksforGeeks. (2023b, December 7). Python   Decision tree implementation. https://www.geeksforgeeks.org/decision-tree-implementation-python/?ref=lbp\n",
    "* Supervised learning. (n.d.). Scikit-learn. https://scikit-learn.org/stable/supervised_learning.html#supervised-learning\n"
   ]
  }
 ],
 "metadata": {
  "kernelspec": {
   "display_name": "Python 3 (ipykernel)",
   "language": "python",
   "name": "python3"
  },
  "language_info": {
   "codemirror_mode": {
    "name": "ipython",
    "version": 3
   },
   "file_extension": ".py",
   "mimetype": "text/x-python",
   "name": "python",
   "nbconvert_exporter": "python",
   "pygments_lexer": "ipython3",
   "version": "3.11.5"
  }
 },
 "nbformat": 4,
 "nbformat_minor": 5
}
